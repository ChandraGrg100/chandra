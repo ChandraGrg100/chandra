{
 "cells": [
  {
   "cell_type": "code",
   "execution_count": 1,
   "id": "385f1de8",
   "metadata": {},
   "outputs": [],
   "source": [
    "# Dictionary\n",
    "# Indexed\n",
    "# Ordered\n",
    "# Multiple data\n",
    "# Mutable\n",
    "#set inside set doent exist"
   ]
  },
  {
   "cell_type": "code",
   "execution_count": 2,
   "id": "61778bc5",
   "metadata": {},
   "outputs": [],
   "source": [
    "# a = {<key>, <value>}"
   ]
  },
  {
   "cell_type": "code",
   "execution_count": 17,
   "id": "3550541e",
   "metadata": {},
   "outputs": [
    {
     "name": "stdout",
     "output_type": "stream",
     "text": [
      "{'a': 'Apple', 'b': 'Bob', 'c': 'call'}\n"
     ]
    }
   ],
   "source": [
    "a = {\"a\":\"Apple\",\"b\":\"Bob\",\"c\":\"call\"}\n",
    "print(a)"
   ]
  },
  {
   "cell_type": "code",
   "execution_count": 18,
   "id": "2ea4fefd",
   "metadata": {},
   "outputs": [
    {
     "name": "stdout",
     "output_type": "stream",
     "text": [
      "Apple\n",
      "3\n"
     ]
    }
   ],
   "source": [
    "print(a[\"a\"])\n",
    "print(len(a))"
   ]
  },
  {
   "cell_type": "code",
   "execution_count": 19,
   "id": "582aa20f",
   "metadata": {},
   "outputs": [
    {
     "name": "stdout",
     "output_type": "stream",
     "text": [
      "a\n",
      "b\n",
      "c\n"
     ]
    }
   ],
   "source": [
    "a = {\"a\":\"Apple\",\"b\":\"Bob\",\"c\":\"call\"}\n",
    "for i in a:\n",
    "    print(i)"
   ]
  },
  {
   "cell_type": "code",
   "execution_count": 21,
   "id": "74cda0dd",
   "metadata": {},
   "outputs": [
    {
     "name": "stdout",
     "output_type": "stream",
     "text": [
      "Apple\n",
      "Bob\n",
      "call\n"
     ]
    }
   ],
   "source": [
    "a = {\"a\":\"Apple\",\"b\":\"Bob\",\"c\":\"call\"}\n",
    "for i in a.values():\n",
    "    print(i)"
   ]
  },
  {
   "cell_type": "code",
   "execution_count": 23,
   "id": "5d801649",
   "metadata": {},
   "outputs": [
    {
     "name": "stdout",
     "output_type": "stream",
     "text": [
      "('a', 'Apple')\n",
      "('b', 'Bob')\n",
      "('c', 'call')\n"
     ]
    }
   ],
   "source": [
    "a = {\"a\":\"Apple\",\"b\":\"Bob\",\"c\":\"call\"}\n",
    "for i in a.items():\n",
    "    print(i)"
   ]
  },
  {
   "cell_type": "code",
   "execution_count": 25,
   "id": "6288f229",
   "metadata": {},
   "outputs": [
    {
     "name": "stdout",
     "output_type": "stream",
     "text": [
      "[('a', 'Apple'), ('b', 'Bob'), ('c', 'call')]\n"
     ]
    }
   ],
   "source": [
    "a = {\"a\":\"Apple\",\"b\":\"Bob\",\"c\":\"call\"}\n",
    "b = []\n",
    "for i in a.items():\n",
    "    b.append(i)\n",
    "    \n",
    "print(b)"
   ]
  },
  {
   "cell_type": "code",
   "execution_count": 29,
   "id": "f370a319",
   "metadata": {},
   "outputs": [
    {
     "data": {
      "text/plain": [
       "{'a': 'Apple', 'b': 'Bob', 'c': 'call'}"
      ]
     },
     "execution_count": 29,
     "metadata": {},
     "output_type": "execute_result"
    }
   ],
   "source": [
    "dict(b)"
   ]
  },
  {
   "cell_type": "code",
   "execution_count": 30,
   "id": "d51574ea",
   "metadata": {},
   "outputs": [
    {
     "name": "stdout",
     "output_type": "stream",
     "text": [
      "{}\n"
     ]
    }
   ],
   "source": [
    "a = dict()\n",
    "print(a)"
   ]
  },
  {
   "cell_type": "code",
   "execution_count": 32,
   "id": "1ad1dc91",
   "metadata": {},
   "outputs": [
    {
     "name": "stdout",
     "output_type": "stream",
     "text": [
      "{'a': 'Ant', 'b': 'Bob', 'c': 'Call'}\n"
     ]
    }
   ],
   "source": [
    "#replace\n",
    "x = {\"a\":\"Apple\",\"b\":\"Bob\",\"c\":\"Call\"}\n",
    "x[\"a\"] = \"Ant\"\n",
    "print(x)"
   ]
  },
  {
   "cell_type": "code",
   "execution_count": 33,
   "id": "3d42a42d",
   "metadata": {},
   "outputs": [
    {
     "name": "stdout",
     "output_type": "stream",
     "text": [
      "{'a': 'Apple', 'b': 'Bob', 'c': 'Call', 'd': 'Dog'}\n"
     ]
    }
   ],
   "source": [
    "#add new key\n",
    "x = {\"a\":\"Apple\",\"b\":\"Bob\",\"c\":\"Call\"}\n",
    "x[\"d\"] = \"Dog\"\n",
    "print(x)"
   ]
  },
  {
   "cell_type": "code",
   "execution_count": 62,
   "id": "2760f5fc",
   "metadata": {},
   "outputs": [
    {
     "name": "stdout",
     "output_type": "stream",
     "text": [
      "Enter the value=  2\n",
      "Enter name: e\n",
      "Enter phone: 3\n",
      "{'e': 3}\n"
     ]
    }
   ],
   "source": [
    "d = {}\n",
    "n = int(input(\"Enter the value=  \"))\n",
    "if i in range(n):\n",
    "    name = input(\"Enter name: \")\n",
    "    phone = int(input(\"Enter phone: \"))\n",
    "    d[name] = phone\n",
    "    \n",
    "print(d)"
   ]
  },
  {
   "cell_type": "code",
   "execution_count": 42,
   "id": "7364d58a",
   "metadata": {},
   "outputs": [
    {
     "name": "stdout",
     "output_type": "stream",
     "text": [
      "{'Cop': 9806675094, 'Bob': 98333030}\n"
     ]
    }
   ],
   "source": [
    "d = {\"Cop\": 98047474, \"Bob\": 98333030}\n",
    "d[\"Cop\"] = 9806675094\n",
    "print(d)"
   ]
  },
  {
   "cell_type": "code",
   "execution_count": 44,
   "id": "b80066b4",
   "metadata": {},
   "outputs": [
    {
     "name": "stdout",
     "output_type": "stream",
     "text": [
      "{'Bob': 98333030}\n"
     ]
    }
   ],
   "source": [
    "d = {\"Cop\": 98047474, \"Bob\": 98333030}\n",
    "del d[\"Cop\"]\n",
    "print(d)"
   ]
  },
  {
   "cell_type": "code",
   "execution_count": 46,
   "id": "19828c4d",
   "metadata": {},
   "outputs": [
    {
     "name": "stdout",
     "output_type": "stream",
     "text": [
      "{'Bob': 98333030}\n",
      "98047474\n"
     ]
    }
   ],
   "source": [
    "d = {\"Cop\": 98047474, \"Bob\": 98333030}\n",
    "b = d.pop(\"Cop\")\n",
    "print(d)\n",
    "print(b)"
   ]
  },
  {
   "cell_type": "code",
   "execution_count": 48,
   "id": "5b573a69",
   "metadata": {},
   "outputs": [
    {
     "name": "stdout",
     "output_type": "stream",
     "text": [
      "{('Cop',): 98047474, ('Bob',): 98333030}\n"
     ]
    }
   ],
   "source": [
    "d = {(\"Cop\",): 98047474, (\"Bob\",): 98333030}\n",
    "print(d)"
   ]
  },
  {
   "cell_type": "code",
   "execution_count": 49,
   "id": "a405266c",
   "metadata": {},
   "outputs": [
    {
     "name": "stdout",
     "output_type": "stream",
     "text": [
      "{'Ace': [980676675, 968559454], 'Bas': [39483043, 398495438]}\n"
     ]
    }
   ],
   "source": [
    "#list inside dictionary\n",
    "d = {\"Ace\":[980676675,968559454],\"Bas\":[39483043,398495438]}\n",
    "print(d)"
   ]
  },
  {
   "cell_type": "code",
   "execution_count": 58,
   "id": "5ec5ca57",
   "metadata": {},
   "outputs": [
    {
     "data": {
      "text/plain": [
       "'Ram'"
      ]
     },
     "execution_count": 58,
     "metadata": {},
     "output_type": "execute_result"
    }
   ],
   "source": [
    "info = {\"Name\": [\"Ram\",\"Sam\"], \"Age\":[50,90],\"Address\":[\"Ktm\",\"Pkr\"]}\n",
    "info[\"Name\"][0]"
   ]
  },
  {
   "cell_type": "code",
   "execution_count": 60,
   "id": "54a04aa6",
   "metadata": {},
   "outputs": [
    {
     "name": "stdout",
     "output_type": "stream",
     "text": [
      "Enter the value= 2\n",
      "Enter name: Chandra\n",
      "Enter age: 26\n",
      "Enter address: PKr\n",
      "Enter name: Jyoti\n",
      "Enter age: 24\n",
      "Enter address: Hong Kong\n",
      "{'Name': ['Chandra', 'Jyoti'], 'Age': [26, 24], 'Address': ['PKr', 'Hong Kong']}\n"
     ]
    }
   ],
   "source": [
    "info = {\"Name\": [], \"Age\":[],\"Address\":[]}\n",
    "n = int(input(\"Enter the value= \"))\n",
    "for i in range(n):\n",
    "    name = input(\"Enter name: \")\n",
    "    age = int(input(\"Enter age: \"))\n",
    "    add = input(\"Enter address: \")\n",
    "    info[\"Name\"].append(name)\n",
    "    info[\"Age\"].append(age)\n",
    "    info[\"Address\"].append(add)\n",
    "print(info)"
   ]
  },
  {
   "cell_type": "code",
   "execution_count": 5,
   "id": "668787fb",
   "metadata": {},
   "outputs": [
    {
     "name": "stdout",
     "output_type": "stream",
     "text": [
      "Enter the value= 1\n",
      "Enter name: Chandra\n",
      "Enter age: 20\n",
      "Enter address: Pkr\n",
      "{'Name': ['Chandra'], 'Age': [20], 'Address': ['Pkr']}\n"
     ]
    }
   ],
   "source": [
    "info = {\"Name\": [], \"Age\":[],\"Address\":[]}\n",
    "n = int(input(\"Enter the value= \"))\n",
    "for i in range(n):\n",
    "    name = input(\"Enter name: \")\n",
    "    age = int(input(\"Enter age: \"))\n",
    "    add = input(\"Enter address: \")\n",
    "    info[\"Name\"] += [name]\n",
    "    info[\"Age\"] += [age]\n",
    "    info[\"Address\"] += [add]\n",
    "print(info)"
   ]
  },
  {
   "cell_type": "code",
   "execution_count": 8,
   "id": "b7ff002d",
   "metadata": {},
   "outputs": [
    {
     "name": "stdout",
     "output_type": "stream",
     "text": [
      "{'Name': 'Chandra', 'Age': 26, 'Add': 'Pkr'}\n"
     ]
    }
   ],
   "source": [
    "#dictionary inside list\n",
    "a = [{'Name': 'Chandra', 'Age': 26, 'Add': 'Pkr'},\n",
    "    {'Name': 'Ram', 'Age': 24, 'Add': 'Ktm'},\n",
    "    {'Name': 'Sam', 'Age': 27, 'Add': 'Dharan'}]\n",
    "print(a[0])"
   ]
  },
  {
   "cell_type": "code",
   "execution_count": 17,
   "id": "52f17285",
   "metadata": {},
   "outputs": [
    {
     "name": "stdout",
     "output_type": "stream",
     "text": [
      "[{'Name': 'Chandra', 'Age': 26, 'Add': 'Pkr'}, {'Name': 'Ram', 'Age': 24, 'Add': 'Ktm'}, {'Name': 'Sam', 'Age': 27, 'Add': 'Dharan'}, ['Name', 'Grg', 'Age', 26, 'Add', 'RP'], ['Name', 'Grg', 'Age', 26, 'Add', 'RP']]\n"
     ]
    }
   ],
   "source": [
    "b = ['Name','Grg', 'Age' , 26, 'Add' ,'RP']\n",
    "a.append(b)\n",
    "print(a)"
   ]
  },
  {
   "cell_type": "code",
   "execution_count": 30,
   "id": "b75d9c66",
   "metadata": {
    "collapsed": true
   },
   "outputs": [
    {
     "name": "stdout",
     "output_type": "stream",
     "text": [
      "Enter the value= 2\n",
      "Enter name: d\n",
      "Enter age: 3\n",
      "Enter address: e\n",
      "Enter name: 3\n",
      "Enter age: 4\n",
      "Enter address: e\n",
      "['Name', '3', 'age', 4, 'Add', 'e', 'e']\n"
     ]
    }
   ],
   "source": [
    "info = {\"Name\": [], \"Age\":[],\"Address\":[]}\n",
    "n = int(input(\"Enter the value= \"))\n",
    "for i in range(n):\n",
    "    name = input(\"Enter name: \")\n",
    "    age = int(input(\"Enter age: \"))\n",
    "    add = input(\"Enter address: \")\n",
    "    info = [\"Name\", name, \"age\", age, \"Add\",add]\n",
    "    info.append(add)\n",
    "print(info)"
   ]
  },
  {
   "cell_type": "code",
   "execution_count": 28,
   "id": "0927b4fb",
   "metadata": {},
   "outputs": [
    {
     "data": {
      "text/plain": [
       "[{'Name': 'Harry', 'Age': 26, 'Add': 'Pkr'},\n",
       " {'Name': 'Ram', 'Age': 24, 'Add': 'Ktm'},\n",
       " {'Name': 'Sam', 'Age': 27, 'Add': 'Dharan'}]"
      ]
     },
     "execution_count": 28,
     "metadata": {},
     "output_type": "execute_result"
    }
   ],
   "source": [
    "#CHange the name \n",
    "a = [{'Name': 'Chandra', 'Age': 26, 'Add': 'Pkr'},\n",
    "    {'Name': 'Ram', 'Age': 24, 'Add': 'Ktm'},\n",
    "    {'Name': 'Sam', 'Age': 27, 'Add': 'Dharan'}]\n",
    "a[0][\"Name\"] = \"Harry\"\n",
    "a"
   ]
  },
  {
   "cell_type": "code",
   "execution_count": 34,
   "id": "5b7aee8b",
   "metadata": {},
   "outputs": [
    {
     "name": "stdout",
     "output_type": "stream",
     "text": [
      "{1: {'Name': 'Chandra', 'Age': 22, 'Add': 'PP'}, 2: {'Name': 'Rsm', 'Age': 25, 'Add': 'Pr'}, 3: {'Name': 'Sam', 'Age': 23, 'Add': 'Pe'}}\n"
     ]
    }
   ],
   "source": [
    "#Dictionary inside dictionary\n",
    "a = {1:{\"Name\": \"Chandra\", \"Age\": 22, \"Per\": 90},\n",
    "    2:{\"Name\": \"Rsm\", \"Age\": 25, \"Per\": 98},\n",
    "    3:{\"Name\": \"Sam\", \"Age\": 23, \"Per\": 91}}\n",
    "print(a)"
   ]
  },
  {
   "cell_type": "code",
   "execution_count": 37,
   "id": "302dd2c1",
   "metadata": {},
   "outputs": [
    {
     "name": "stdout",
     "output_type": "stream",
     "text": [
      "Enter the value= 2\n",
      "Enter name: dd\n",
      "Enter age: 3\n",
      "Enter percentage: 4\n",
      "Enter name: rr\n",
      "Enter age: 3\n",
      "Enter percentage: 4\n",
      "{1: {'Name': 'dd', 'Age': 3, 'Per': 4}, 2: {'Name': 'rr', 'Age': 3, 'Per': 4}}\n"
     ]
    }
   ],
   "source": [
    "info = {}\n",
    "n = int(input(\"Enter the value= \"))\n",
    "for i in range(1, n+1):\n",
    "    name = input(\"Enter name: \")\n",
    "    age = int(input(\"Enter age: \"))\n",
    "    per = int(input(\"Enter percentage: \"))\n",
    "    info[i] = {\"Name\":name,\"Age\":age,\"Per\":per}\n",
    "print(info)"
   ]
  },
  {
   "cell_type": "code",
   "execution_count": 6,
   "id": "d6795c97",
   "metadata": {},
   "outputs": [
    {
     "name": "stdout",
     "output_type": "stream",
     "text": [
      "dict_keys(['a', 'b', 'c'])\n",
      "Enter value: a\n",
      "Apple\n"
     ]
    }
   ],
   "source": [
    "#CRUD\n",
    "a = {\"a\":\"Apple\",\"b\":\"Bob\",\"c\":\"call\"}\n",
    "print(a.keys())\n",
    "b = input(\"Enter value: \")\n",
    "print(a[b])"
   ]
  },
  {
   "cell_type": "code",
   "execution_count": 7,
   "id": "5c612f58",
   "metadata": {},
   "outputs": [
    {
     "name": "stdout",
     "output_type": "stream",
     "text": [
      "{'b': 'Bob', 'c': 'call'}\n"
     ]
    }
   ],
   "source": [
    "#delete\n",
    "a = {\"a\":\"Apple\",\"b\":\"Bob\",\"c\":\"call\"}\n",
    "del a[\"a\"]\n",
    "print(a)"
   ]
  },
  {
   "cell_type": "code",
   "execution_count": 8,
   "id": "24967b64",
   "metadata": {},
   "outputs": [
    {
     "name": "stdout",
     "output_type": "stream",
     "text": [
      "{'a': 'Apps', 'b': 'Bob', 'c': 'call'}\n"
     ]
    }
   ],
   "source": [
    "#Replace\n",
    "a = {\"a\":\"Apple\",\"b\":\"Bob\",\"c\":\"call\"}\n",
    "a[\"a\"] = \"Apps\"\n",
    "print(a)"
   ]
  },
  {
   "cell_type": "code",
   "execution_count": null,
   "id": "7d0643f3",
   "metadata": {},
   "outputs": [],
   "source": []
  }
 ],
 "metadata": {
  "kernelspec": {
   "display_name": "Python 3 (ipykernel)",
   "language": "python",
   "name": "python3"
  },
  "language_info": {
   "codemirror_mode": {
    "name": "ipython",
    "version": 3
   },
   "file_extension": ".py",
   "mimetype": "text/x-python",
   "name": "python",
   "nbconvert_exporter": "python",
   "pygments_lexer": "ipython3",
   "version": "3.9.12"
  }
 },
 "nbformat": 4,
 "nbformat_minor": 5
}
