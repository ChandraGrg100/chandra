{
 "cells": [
  {
   "cell_type": "code",
   "execution_count": null,
   "id": "e7da52b7",
   "metadata": {},
   "outputs": [],
   "source": [
    "n = int(input(\"Enter the no.: \"))\n",
    "for i in range(n):\n",
    "    name = input(\"Enter name: \")\n",
    "    english = int(input(\"Enter the english marks: \")\n",
    "    nepali = int(input(\"Enter the nepali maeks: \"))\n",
    "    science = int(input(\"Enter the science marks: \"))\n",
    "    math = int(input(\"Enter the math marks: \"))\n",
    "    total = sum([english,nepali,science,math])           \n",
    "    per = total/4\n",
    "    if per>=90:\n",
    "        grade = \"A\"\n",
    "    elif per>=70:\n",
    "        grade = \"B\"\n",
    "    elif per>=50:\n",
    "        grade = \"C\"\n",
    "    else:\n",
    "        grade = \"F\"\n",
    "sql = f'''('{name}','{english}','{nepali}',{science},{math},'{total}',{per},{grade}'''   \n",
    "db.excute(sql)"
   ]
  }
 ],
 "metadata": {
  "kernelspec": {
   "display_name": "Python 3 (ipykernel)",
   "language": "python",
   "name": "python3"
  },
  "language_info": {
   "codemirror_mode": {
    "name": "ipython",
    "version": 3
   },
   "file_extension": ".py",
   "mimetype": "text/x-python",
   "name": "python",
   "nbconvert_exporter": "python",
   "pygments_lexer": "ipython3",
   "version": "3.9.12"
  }
 },
 "nbformat": 4,
 "nbformat_minor": 5
}
