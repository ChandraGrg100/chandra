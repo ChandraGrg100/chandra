{
 "cells": [
  {
   "cell_type": "code",
   "execution_count": 1,
   "id": "edf599b3",
   "metadata": {},
   "outputs": [],
   "source": [
    "class Hi:\n",
    "    pass\n",
    "#compiller design"
   ]
  },
  {
   "cell_type": "code",
   "execution_count": 2,
   "id": "feb3434c",
   "metadata": {},
   "outputs": [],
   "source": [
    "# class <class_name>:          class\n",
    "#     (operations or methods)   method\n",
    "    \n",
    "# obj = <class_name>()       obeject"
   ]
  },
  {
   "cell_type": "code",
   "execution_count": 4,
   "id": "cb22a730",
   "metadata": {},
   "outputs": [
    {
     "name": "stdout",
     "output_type": "stream",
     "text": [
      "Hello World\n"
     ]
    }
   ],
   "source": [
    "class Hi:                  #class\n",
    "    print(\"Hello World\") #operation\n",
    "obj = Hi()    #object"
   ]
  },
  {
   "cell_type": "code",
   "execution_count": 11,
   "id": "4b46b25f",
   "metadata": {},
   "outputs": [
    {
     "name": "stdout",
     "output_type": "stream",
     "text": [
      "Hello World\n"
     ]
    }
   ],
   "source": [
    "class Hi:                  #class\n",
    "    def hi(self):        #method\n",
    "        print(\"Hello World\") #operation\n",
    "obj = Hi()\n",
    "obj.hi()"
   ]
  },
  {
   "cell_type": "code",
   "execution_count": 14,
   "id": "6a38552c",
   "metadata": {},
   "outputs": [
    {
     "name": "stdout",
     "output_type": "stream",
     "text": [
      "Hello World\n"
     ]
    }
   ],
   "source": [
    "class Hi:  #class\n",
    "    @staticmethod\n",
    "    def hi():        #method\n",
    "        print(\"Hello World\") #operation\n",
    "obj = Hi()\n",
    "obj.hi()"
   ]
  },
  {
   "cell_type": "code",
   "execution_count": 16,
   "id": "227adf39",
   "metadata": {},
   "outputs": [
    {
     "name": "stdout",
     "output_type": "stream",
     "text": [
      "Enter the value of l: 34\n",
      "Enter the value of b: 34\n",
      "1156\n"
     ]
    }
   ],
   "source": [
    "class Hi:                  \n",
    "    def hi(self,x,y):        \n",
    "        a = x*y\n",
    "        print(a)\n",
    "l = int(input(\"Enter the value of l: \"))\n",
    "b = int(input(\"Enter the value of b: \"))\n",
    "obj = Hi()\n",
    "obj.hi(l,b)"
   ]
  },
  {
   "cell_type": "code",
   "execution_count": 20,
   "id": "38c763b5",
   "metadata": {},
   "outputs": [
    {
     "name": "stdout",
     "output_type": "stream",
     "text": [
      "Enter the value of l: 2\n",
      "Enter the value of b: 2\n",
      "4\n"
     ]
    }
   ],
   "source": [
    "class Hi:                  \n",
    "    def hi(self,a,b):        \n",
    "        c = a*b\n",
    "        print(c)\n",
    "l = int(input(\"Enter the value of l: \"))\n",
    "b = int(input(\"Enter the value of b: \"))\n",
    "obj = Hi()\n",
    "obj.hi(l,b)"
   ]
  },
  {
   "cell_type": "code",
   "execution_count": 28,
   "id": "1cc30b98",
   "metadata": {},
   "outputs": [
    {
     "name": "stdout",
     "output_type": "stream",
     "text": [
      "Enter the value of l: 2\n",
      "Enter the value of b: 2\n",
      "Enther the value of h: 2\n",
      "4\n",
      "8\n"
     ]
    }
   ],
   "source": [
    "class Area:\n",
    "    def area(self,l,b):\n",
    "        a = l*b\n",
    "        print(a)\n",
    "\n",
    "class Volume:\n",
    "    def volume(self,l,b,h):\n",
    "        v = l*b*h\n",
    "        print(v)\n",
    "\n",
    "l = int(input(\"Enter the value of l: \"))\n",
    "b = int(input(\"Enter the value of b: \"))\n",
    "h = int(input(\"Enther the value of h: \"))\n",
    "    \n",
    "obj1 = Area()\n",
    "obj2 = Volume()\n",
    "obj1.area(l,b)\n",
    "obj2.volume(l,b,h)"
   ]
  },
  {
   "cell_type": "code",
   "execution_count": 30,
   "id": "e72af8fc",
   "metadata": {},
   "outputs": [
    {
     "name": "stdout",
     "output_type": "stream",
     "text": [
      "Enter the value of l: 2\n",
      "Enter the value of b: 2\n",
      "Enther the value of h: 2\n",
      "4\n",
      "8\n"
     ]
    }
   ],
   "source": [
    "class Cal:\n",
    "    def area(self,l,b):\n",
    "        a = l*b\n",
    "        print(a)\n",
    "\n",
    "\n",
    "    def volume(self,l,b,h):\n",
    "        v = l*b*h\n",
    "        print(v)\n",
    "\n",
    "l = int(input(\"Enter the value of l: \"))\n",
    "b = int(input(\"Enter the value of b: \"))\n",
    "h = int(input(\"Enther the value of h: \"))\n",
    "    \n",
    "obj = Cal()\n",
    "obj.area(l,b)\n",
    "obj.volume(l,b,h)"
   ]
  },
  {
   "cell_type": "code",
   "execution_count": 34,
   "id": "4b106c89",
   "metadata": {},
   "outputs": [
    {
     "name": "stdout",
     "output_type": "stream",
     "text": [
      "Enter the value of l: 2\n",
      "Enter the value of b: 2\n",
      "Enther the value of h: 2\n",
      "4\n",
      "8\n"
     ]
    }
   ],
   "source": [
    "class Cal():\n",
    "    def __init__(self,l,b,h):\n",
    "        self.l = l\n",
    "        self.b = b\n",
    "        self.h = h\n",
    "    def area(self):\n",
    "        a = self.l*self.b\n",
    "        print(a)\n",
    "\n",
    "\n",
    "    def volume(self):\n",
    "        v = self.l*self.b*self.h\n",
    "        print(v)\n",
    "\n",
    "l = int(input(\"Enter the value of l: \"))\n",
    "b = int(input(\"Enter the value of b: \"))\n",
    "h = int(input(\"Enther the value of h: \"))\n",
    "    \n",
    "obj = Cal(l,b,h)\n",
    "obj.area()\n",
    "obj.volume()"
   ]
  },
  {
   "cell_type": "code",
   "execution_count": 40,
   "id": "daebf5ee",
   "metadata": {},
   "outputs": [
    {
     "name": "stdout",
     "output_type": "stream",
     "text": [
      "Apsara\n",
      "Apsara\n",
      "Apsara\n"
     ]
    }
   ],
   "source": [
    "class Info:\n",
    "    def __init__(self,name,age,add):\n",
    "        self.name = name\n",
    "        self.age = age\n",
    "        self.add = add\n",
    "        \n",
    "    def __str__(self):\n",
    "        return self.name\n",
    "    \n",
    "obj = Info(\"Apsara\",25,\"Pkr\")\n",
    "print(obj)\n",
    "print(obj.__str__())\n",
    "print(str(obj))\n"
   ]
  },
  {
   "cell_type": "code",
   "execution_count": 42,
   "id": "ac8cf4fa",
   "metadata": {},
   "outputs": [
    {
     "ename": "TypeError",
     "evalue": "unsupported operand type(s) for +: 'Point' and 'Point'",
     "output_type": "error",
     "traceback": [
      "\u001b[0;31m---------------------------------------------------------------------------\u001b[0m",
      "\u001b[0;31mTypeError\u001b[0m                                 Traceback (most recent call last)",
      "Input \u001b[0;32mIn [42]\u001b[0m, in \u001b[0;36m<cell line: 9>\u001b[0;34m()\u001b[0m\n\u001b[1;32m      6\u001b[0m p1 \u001b[38;5;241m=\u001b[39m Point(\u001b[38;5;241m2\u001b[39m,\u001b[38;5;241m3\u001b[39m)\n\u001b[1;32m      7\u001b[0m p2 \u001b[38;5;241m=\u001b[39m Point(\u001b[38;5;241m-\u001b[39m\u001b[38;5;241m1\u001b[39m,\u001b[38;5;241m2\u001b[39m)\n\u001b[0;32m----> 9\u001b[0m \u001b[43mp1\u001b[49m\u001b[43m \u001b[49m\u001b[38;5;241;43m+\u001b[39;49m\u001b[43m \u001b[49m\u001b[43mp2\u001b[49m\n",
      "\u001b[0;31mTypeError\u001b[0m: unsupported operand type(s) for +: 'Point' and 'Point'"
     ]
    }
   ],
   "source": [
    "class Point:\n",
    "    def __init__(self, x = 0, y = 0):\n",
    "        self.x = x\n",
    "        self.y = y\n",
    "\n",
    "p1 = Point(2,3)\n",
    "p2 = Point(-1,2)\n",
    "\n",
    "p1 + p2"
   ]
  },
  {
   "cell_type": "code",
   "execution_count": 46,
   "id": "57768f40",
   "metadata": {},
   "outputs": [
    {
     "name": "stdout",
     "output_type": "stream",
     "text": [
      "1,5\n"
     ]
    }
   ],
   "source": [
    "class Point:\n",
    "    def __init__(self, x = 0, y = 0):\n",
    "\n",
    "        self.x = x\n",
    "\n",
    "        self.y = y\n",
    "\n",
    "    def __str__(self):\n",
    "\n",
    "        return f\"{self.x},{self.y}\"\n",
    "\n",
    "    def __add__(self,other):\n",
    "\n",
    "        x = self.x + other.x\n",
    "\n",
    "        y = self.y + other.y\n",
    "\n",
    "        return Point(x,y)\n",
    "\n",
    "p1 = Point(2,3)\n",
    "\n",
    "p2 = Point(-1,2)\n",
    "\n",
    "print(p1 + p2)"
   ]
  },
  {
   "cell_type": "code",
   "execution_count": 53,
   "id": "511604df",
   "metadata": {},
   "outputs": [
    {
     "name": "stdout",
     "output_type": "stream",
     "text": [
      "This is init method 2\n",
      "This is init method 5\n",
      "This is init method 3\n",
      "This is add method 7\n",
      "This is init method 7\n",
      "This is add method 10\n",
      "This is init method 10\n",
      "This is str method 10\n",
      "10\n"
     ]
    }
   ],
   "source": [
    "class Point:\n",
    "    def __init__(self, x = 0):\n",
    "        self.x = x\n",
    "        print(\"This is init method\",self.x)\n",
    "\n",
    "    def __str__(self):\n",
    "        print(\"This is str method\",self.x)\n",
    "        return f\"{self.x}\"\n",
    "\n",
    "    def __add__(self,other):\n",
    "        x = self.x + other.x\n",
    "        print(\"This is add method\",x)\n",
    "        return Point(x)\n",
    "\n",
    "p1 = Point(2)\n",
    "p2 = Point(5)\n",
    "p3 = Point(3)\n",
    "\n",
    "print(p1 + p2 + p3)"
   ]
  },
  {
   "cell_type": "code",
   "execution_count": 2,
   "id": "08ca4236",
   "metadata": {},
   "outputs": [
    {
     "name": "stdout",
     "output_type": "stream",
     "text": [
      "Parrot can fly\n",
      "Penguin can't fly\n"
     ]
    }
   ],
   "source": [
    "class Parrot:\n",
    "    def fly(self):\n",
    "        print(\"Parrot can fly\")\n",
    "\n",
    "    def swim(self):\n",
    "        print(\"Parrot can't swim\")\n",
    "\n",
    "class Penguin:\n",
    "    def fly(self):\n",
    "        print(\"Penguin can't fly\")\n",
    "\n",
    "    def swim(self):\n",
    "        print(\"Penguin can swim\")\n",
    "\n",
    "# common interface\n",
    "\n",
    "def flying_test(bird):\n",
    "    bird.fly()\n",
    "\n",
    "\n",
    "#instantiate objects\n",
    "\n",
    "blu = Parrot()\n",
    "peggy = Penguin()\n",
    "\n",
    "# passing the object\n",
    "\n",
    "flying_test(blu)\n",
    "flying_test(peggy)"
   ]
  },
  {
   "cell_type": "code",
   "execution_count": null,
   "id": "fff68883",
   "metadata": {},
   "outputs": [],
   "source": []
  }
 ],
 "metadata": {
  "kernelspec": {
   "display_name": "Python 3 (ipykernel)",
   "language": "python",
   "name": "python3"
  },
  "language_info": {
   "codemirror_mode": {
    "name": "ipython",
    "version": 3
   },
   "file_extension": ".py",
   "mimetype": "text/x-python",
   "name": "python",
   "nbconvert_exporter": "python",
   "pygments_lexer": "ipython3",
   "version": "3.9.12"
  }
 },
 "nbformat": 4,
 "nbformat_minor": 5
}
