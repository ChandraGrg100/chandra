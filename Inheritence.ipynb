{
 "cells": [
  {
   "cell_type": "code",
   "execution_count": 1,
   "id": "ee357340",
   "metadata": {},
   "outputs": [],
   "source": [
    "class A:\n",
    "    pass\n",
    "\n",
    "class B(A):\n",
    "    pass\n",
    "\n",
    "obj = B()"
   ]
  },
  {
   "cell_type": "code",
   "execution_count": 14,
   "id": "6c09b3ea",
   "metadata": {},
   "outputs": [
    {
     "name": "stdout",
     "output_type": "stream",
     "text": [
      "Hello I am Apsara. I am from Pokhara. I am 25\n"
     ]
    }
   ],
   "source": [
    "class Info:               #parent class\n",
    "    def __init__(self, name, age, add):\n",
    "        self.name = name\n",
    "        self.age = age \n",
    "        self.add = add\n",
    "        \n",
    "class Data(Info):         #child class\n",
    "    def data(self):\n",
    "        print(f\"Hello I am {self.name}. I am from {self.add}. I am {self.age}\")\n",
    "        \n",
    "obj = Data(\"Apsara\",25,\"Pokhara\")\n",
    "obj.data()"
   ]
  },
  {
   "cell_type": "code",
   "execution_count": 1,
   "id": "01b50bb3",
   "metadata": {},
   "outputs": [
    {
     "name": "stdout",
     "output_type": "stream",
     "text": [
      "Hello I am Chandra. I am from Pokhara. I am 26\n"
     ]
    }
   ],
   "source": [
    "class Info:               #parent class\n",
    "    def __init__(self):\n",
    "        self.name = \"Chandra\"\n",
    "        self.age = 26\n",
    "        self.add = \"Pokhara\"\n",
    "        \n",
    "class Data(Info):         #child class\n",
    "    def data(self):\n",
    "        print(f\"Hello I am {self.name}. I am from {self.add}. I am {self.age}\")\n",
    "        \n",
    "obj = Data()\n",
    "obj.data()"
   ]
  },
  {
   "cell_type": "code",
   "execution_count": 10,
   "id": "2b981534",
   "metadata": {},
   "outputs": [
    {
     "name": "stdout",
     "output_type": "stream",
     "text": [
      "Hello I am Apsara. I am from Pokhara. I am 25\n"
     ]
    }
   ],
   "source": [
    "class Info:               #parent class\n",
    "    def __init__(self,add): \n",
    "        self.add = add\n",
    "        \n",
    "class Data(Info):         #child class\n",
    "    def __init__(self, name, age, add):\n",
    "        self.name = name\n",
    "        self.age = age \n",
    "        Info.__init__(self,add)\n",
    "    \n",
    "    def data(self):\n",
    "        print(f\"Hello I am {self.name}. I am from {self.add}. I am {self.age}\")\n",
    "        \n",
    "obj = Data(\"Apsara\",25,\"Pokhara\")\n",
    "obj.data()"
   ]
  },
  {
   "cell_type": "code",
   "execution_count": 13,
   "id": "f13888f1",
   "metadata": {},
   "outputs": [
    {
     "name": "stdout",
     "output_type": "stream",
     "text": [
      "Enter your name: Jazz\n",
      "Enter your address: Btl\n",
      "ENter your age: 25\n",
      "Hello I am Jazz. I am from Btl. I am 25\n"
     ]
    }
   ],
   "source": [
    "class Add:               #parent class\n",
    "    def __init__(self): \n",
    "        self.add = input(\"Enter your address: \")\n",
    "        \n",
    "class Age:\n",
    "    def __init__(self):\n",
    "        self.age = int(input(\"ENter your age: \"))\n",
    "        \n",
    "class Data(Info):         #child class\n",
    "    def __init__(self):\n",
    "        self.name = input(\"Enter your name: \") \n",
    "        Add.__init__(self)\n",
    "        Age.__init__(self)\n",
    "    \n",
    "    def data(self):\n",
    "        print(f\"Hello I am {self.name}. I am from {self.add}. I am {self.age}\")\n",
    "        \n",
    "obj = Data()\n",
    "obj.data()"
   ]
  },
  {
   "cell_type": "code",
   "execution_count": 19,
   "id": "9f5d4a09",
   "metadata": {},
   "outputs": [
    {
     "name": "stdout",
     "output_type": "stream",
     "text": [
      "Hello I am Apsara. I am from Pokhara. I am 25\n"
     ]
    }
   ],
   "source": [
    "class Add:               #parent class\n",
    "    def __init__(self,add): \n",
    "        self.add = add\n",
    "        \n",
    "class Age(Add):\n",
    "    def __init__(self,age,add):\n",
    "        self.age = age\n",
    "        Add.__init__(self,add)\n",
    "        \n",
    "class Data(Age):         #child class\n",
    "    def __init__(self, name, age, add):\n",
    "        self.name = name \n",
    "        Age.__init__(self,age,add)\n",
    "    \n",
    "    def data(self):\n",
    "        print(f\"Hello I am {self.name}. I am from {self.add}. I am {self.age}\")\n",
    "        \n",
    "obj = Data(\"Apsara\",25,\"Pokhara\")\n",
    "obj.data()"
   ]
  },
  {
   "cell_type": "code",
   "execution_count": 27,
   "id": "81ad545c",
   "metadata": {},
   "outputs": [
    {
     "name": "stdout",
     "output_type": "stream",
     "text": [
      "Sam\n",
      "22\n",
      "Butwal\n"
     ]
    }
   ],
   "source": [
    "#Public members \n",
    "class Info:\n",
    "    def __init__(self,name,age,add):\n",
    "        self.name = name\n",
    "        self.age = age\n",
    "        self.add = add\n",
    "        \n",
    "obj = Info(\"Sam\",22,\"Butwal\")\n",
    "\n",
    "print(obj.name)\n",
    "print(obj.age)\n",
    "print(obj.add)"
   ]
  },
  {
   "cell_type": "code",
   "execution_count": 29,
   "id": "7d7847dc",
   "metadata": {},
   "outputs": [
    {
     "name": "stdout",
     "output_type": "stream",
     "text": [
      "Sam\n",
      "22\n",
      "Butwal\n"
     ]
    }
   ],
   "source": [
    "#Protected members \n",
    "class Info:\n",
    "    def __init__(self,name,age,add):\n",
    "        self._name = name\n",
    "        self._age = age\n",
    "        self._add = add\n",
    "        \n",
    "obj = Info(\"Sam\",22,\"Butwal\")\n",
    "\n",
    "print(obj._name)\n",
    "print(obj._age)\n",
    "print(obj._add)"
   ]
  },
  {
   "cell_type": "code",
   "execution_count": 30,
   "id": "1b82dd86",
   "metadata": {},
   "outputs": [
    {
     "name": "stdout",
     "output_type": "stream",
     "text": [
      "Sam\n",
      "22\n",
      "Butwal\n"
     ]
    }
   ],
   "source": [
    "#Private memebrs\n",
    "#Protected members \n",
    "class Info:\n",
    "    def __init__(self,name,age,add):\n",
    "        self.__name = name\n",
    "        self.__age = age\n",
    "        self.__add = add\n",
    "        \n",
    "obj = Info(\"Sam\",22,\"Butwal\")\n",
    "\n",
    "print(obj._Info__name)\n",
    "print(obj._Info__age)\n",
    "print(obj._Info__add)"
   ]
  },
  {
   "cell_type": "code",
   "execution_count": 32,
   "id": "34121abe",
   "metadata": {},
   "outputs": [
    {
     "name": "stdout",
     "output_type": "stream",
     "text": [
      "Hello I am Chandra. I am from Pokhara. I am 26\n"
     ]
    }
   ],
   "source": [
    "class Info:               #parent class\n",
    "    def __init__(self):\n",
    "        self.name = \"Chandra\"\n",
    "        self.age = 26\n",
    "        self.__add = \"Pokhara\"\n",
    "        \n",
    "class Data(Info):         #child class\n",
    "    def data(self):\n",
    "        print(f\"Hello I am {self.name}. I am from {self._Info__add}. I am {self.age}\")\n",
    "        \n",
    "obj = Data()\n",
    "obj.data()"
   ]
  },
  {
   "cell_type": "code",
   "execution_count": 35,
   "id": "af1a84ac",
   "metadata": {},
   "outputs": [
    {
     "name": "stdout",
     "output_type": "stream",
     "text": [
      "Hello I am Chandra. I am from Pokhara\n",
      "My age is 26\n"
     ]
    }
   ],
   "source": [
    "class Info:               #parent class\n",
    "    def __init__(self):\n",
    "        self.name = \"Chandra\"\n",
    "        self.__age = 26\n",
    "        self._add = \"Pokhara\"\n",
    "    def my_age(self):\n",
    "        print(f\"My age is {self.__age}\")\n",
    "        \n",
    "class Data(Info):         #child class\n",
    "    def data(self):\n",
    "        print(f\"Hello I am {self.name}. I am from {self._add}\")\n",
    "        \n",
    "obj = Data()\n",
    "obj.data()\n",
    "obj.my_age()"
   ]
  },
  {
   "cell_type": "code",
   "execution_count": 37,
   "id": "e4c74040",
   "metadata": {},
   "outputs": [
    {
     "name": "stdout",
     "output_type": "stream",
     "text": [
      "Hello I am Chandra. I am from Pokhara\n",
      "My age is 26\n"
     ]
    }
   ],
   "source": [
    "class Info:               #parent class\n",
    "    def __init__(self):\n",
    "        self.name = \"Chandra\"\n",
    "        self.__age = 26\n",
    "        self._add = \"Pokhara\"\n",
    "    def my_age(self):\n",
    "        print(f\"My age is {self.__age}\")\n",
    "        \n",
    "class Data(Info):         #child class\n",
    "    def data(self):\n",
    "        print(f\"Hello I am {self.name}. I am from {self._add}\")\n",
    "        super().my_age()\n",
    "        \n",
    "obj = Data()\n",
    "obj.data()\n",
    "#obj.my_age()"
   ]
  },
  {
   "cell_type": "code",
   "execution_count": 43,
   "id": "ccc317a9",
   "metadata": {},
   "outputs": [
    {
     "name": "stdout",
     "output_type": "stream",
     "text": [
      "Hello I am Chandra. I am from Pokhara. I am My age is 26\n"
     ]
    }
   ],
   "source": [
    "class Info:               #parent class\n",
    "    def __init__(self):\n",
    "        self.name = \"Chandra\"\n",
    "        self.__age = 26\n",
    "        self._add = \"Pokhara\"\n",
    "    def my_age(self):\n",
    "        return f\"My age is {self.__age}\"\n",
    "        \n",
    "class Data(Info):         #child class\n",
    "    def data(self):\n",
    "        print(f\"Hello I am {self.name}. I am from {self._add}. I am {super().my_age()}\")\n",
    "        \n",
    "        \n",
    "obj = Data()\n",
    "obj.data()"
   ]
  },
  {
   "cell_type": "code",
   "execution_count": null,
   "id": "95cb8903",
   "metadata": {},
   "outputs": [],
   "source": []
  }
 ],
 "metadata": {
  "kernelspec": {
   "display_name": "Python 3 (ipykernel)",
   "language": "python",
   "name": "python3"
  },
  "language_info": {
   "codemirror_mode": {
    "name": "ipython",
    "version": 3
   },
   "file_extension": ".py",
   "mimetype": "text/x-python",
   "name": "python",
   "nbconvert_exporter": "python",
   "pygments_lexer": "ipython3",
   "version": "3.9.12"
  }
 },
 "nbformat": 4,
 "nbformat_minor": 5
}
