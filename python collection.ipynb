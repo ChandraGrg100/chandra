{
 "cells": [
  {
   "cell_type": "markdown",
   "id": "86217c01",
   "metadata": {},
   "source": [
    "# python collection\n",
    "# list \n",
    "# tuple \n",
    "# dictionary\n",
    "# set"
   ]
  },
  {
   "cell_type": "code",
   "execution_count": 2,
   "id": "de3802f3",
   "metadata": {},
   "outputs": [],
   "source": [
    "# list\n",
    "# Take multiple value\n",
    "# Indexed\n",
    "# Ordered\n",
    "# Mutable"
   ]
  },
  {
   "cell_type": "code",
   "execution_count": 8,
   "id": "58ea6637",
   "metadata": {},
   "outputs": [
    {
     "name": "stdout",
     "output_type": "stream",
     "text": [
      "['Apple', 'Banana', 'Cat', 'Dog']\n",
      "[1, 2, 3, 4, 5]\n"
     ]
    }
   ],
   "source": [
    "#Mutiple Value\n",
    "a = [\"Apple\", 'Banana', \"Cat\", \"Dog\"]\n",
    "b = [1,2,3,4,5]\n",
    "print(a)\n",
    "print(b)"
   ]
  },
  {
   "cell_type": "code",
   "execution_count": 11,
   "id": "686eea23",
   "metadata": {},
   "outputs": [
    {
     "name": "stdout",
     "output_type": "stream",
     "text": [
      "Apple\n",
      "['Apple', 'Banana', 'Cat']\n",
      "['Apple', 'Cat']\n"
     ]
    }
   ],
   "source": [
    "a = [\"Apple\", 'Banana', \"Cat\", \"Dog\"]\n",
    "print(a[0])\n",
    "print(a[0:3])\n",
    "print(a[0:3:2])"
   ]
  },
  {
   "cell_type": "code",
   "execution_count": 14,
   "id": "ca6ef697",
   "metadata": {},
   "outputs": [
    {
     "name": "stdout",
     "output_type": "stream",
     "text": [
      "['Apple', 'Banana', 'Cat', 'Dog', 'Pine', 'Pop']\n",
      "['Pine', 'Pop', 'Apple', 'Banana', 'Cat', 'Dog']\n"
     ]
    }
   ],
   "source": [
    "a = [\"Apple\", 'Banana', \"Cat\", \"Dog\"]\n",
    "b =[\"Pine\", \"Pop\"]\n",
    "print(a+b)\n",
    "print(b+a)"
   ]
  },
  {
   "cell_type": "code",
   "execution_count": 15,
   "id": "8411ff1c",
   "metadata": {},
   "outputs": [
    {
     "name": "stdout",
     "output_type": "stream",
     "text": [
      "['Apple', 'Banana', 'Cat', 'Dog', 'Apple', 'Banana', 'Cat', 'Dog']\n"
     ]
    }
   ],
   "source": [
    "a = [\"Apple\", 'Banana', \"Cat\", \"Dog\"]\n",
    "print(a*2)"
   ]
  },
  {
   "cell_type": "code",
   "execution_count": 17,
   "id": "e2ea9fef",
   "metadata": {},
   "outputs": [
    {
     "name": "stdout",
     "output_type": "stream",
     "text": [
      "['Pine']\n"
     ]
    }
   ],
   "source": [
    "a = []\n",
    "b = [\"Pine\"]\n",
    "a = a+b\n",
    "print(a)"
   ]
  },
  {
   "cell_type": "code",
   "execution_count": 29,
   "id": "90e293f9",
   "metadata": {},
   "outputs": [
    {
     "name": "stdout",
     "output_type": "stream",
     "text": [
      "Enter the value n: 3\n",
      "Enter the value: 23\n",
      "Enter the value: 22\n",
      "[23, 22]\n"
     ]
    }
   ],
   "source": [
    "a = []\n",
    "n = int(input(\"Enter the value n: \"))\n",
    "for i in range(b):\n",
    "    x = int(input(\"Enter the value: \"))\n",
    "    a = a+[x]\n",
    "print(a)"
   ]
  },
  {
   "cell_type": "code",
   "execution_count": 31,
   "id": "0b6dacd0",
   "metadata": {},
   "outputs": [
    {
     "name": "stdout",
     "output_type": "stream",
     "text": [
      "Max value 23\n",
      "Min value 22\n",
      "Sum value 45\n",
      "Avg value 15.0\n",
      "[22, 23]\n",
      "[23, 22]\n"
     ]
    }
   ],
   "source": [
    "print(\"Max value\", max(a))\n",
    "print(\"Min value\", min(a))\n",
    "print(\"Sum value\", sum(a))\n",
    "print(\"Avg value\", sum(a)/n)\n",
    "a.sort()\n",
    "print(a)\n",
    "a.reverse()\n",
    "print(a)"
   ]
  },
  {
   "cell_type": "code",
   "execution_count": 37,
   "id": "c4ed5f87",
   "metadata": {},
   "outputs": [
    {
     "name": "stdout",
     "output_type": "stream",
     "text": [
      "['1Lop', 'Ape', 'Chan', 'ate', 'cat', 'mat']\n"
     ]
    },
    {
     "data": {
      "text/plain": [
       "['mat', 'cat', 'ate', 'Chan', 'Ape', '1Lop']"
      ]
     },
     "execution_count": 37,
     "metadata": {},
     "output_type": "execute_result"
    }
   ],
   "source": [
    "#Special caractor give priority\n",
    "a = [\"cat\", \"mat\", \"ate\", \"Ape\", \"Chan\", \"1Lop\"]\n",
    "a.sort()\n",
    "print(a)\n",
    "a.reverse()\n",
    "a"
   ]
  },
  {
   "cell_type": "code",
   "execution_count": 53,
   "id": "d8babbf3",
   "metadata": {},
   "outputs": [
    {
     "name": "stdout",
     "output_type": "stream",
     "text": [
      "Enter search = cag\n",
      "No\n"
     ]
    }
   ],
   "source": [
    "a = [\"cat\", \"mat\", \"ate\", \"Ape\", \"Chan\", \"Lop\"]\n",
    "search = input(\"Enter search = \")\n",
    "if search in a:\n",
    "    print(\"Yes\",a.count(\"cat\"))\n",
    "else:\n",
    "    print(\"No\")"
   ]
  },
  {
   "cell_type": "code",
   "execution_count": 68,
   "id": "c4f6b7e1",
   "metadata": {},
   "outputs": [
    {
     "name": "stdout",
     "output_type": "stream",
     "text": [
      "Enter search = cgg\n",
      "Yes\n",
      "Yes\n",
      "Yes\n",
      "Yes\n",
      "Yes\n",
      "Yes\n"
     ]
    }
   ],
   "source": [
    "# Wap to search case insensitive value from list\n",
    "a = [\"cat\", \"mat\", \"ate\", \"Ape\", \"Chan\", \"Lop\"]\n",
    "search = input(\"Enter search = \")\n",
    "for search in a:\n",
    "     print(\"Yes\")\n",
    "\n"
   ]
  },
  {
   "cell_type": "code",
   "execution_count": null,
   "id": "cc2c6f6b",
   "metadata": {},
   "outputs": [],
   "source": []
  }
 ],
 "metadata": {
  "kernelspec": {
   "display_name": "Python 3 (ipykernel)",
   "language": "python",
   "name": "python3"
  },
  "language_info": {
   "codemirror_mode": {
    "name": "ipython",
    "version": 3
   },
   "file_extension": ".py",
   "mimetype": "text/x-python",
   "name": "python",
   "nbconvert_exporter": "python",
   "pygments_lexer": "ipython3",
   "version": "3.9.12"
  }
 },
 "nbformat": 4,
 "nbformat_minor": 5
}
