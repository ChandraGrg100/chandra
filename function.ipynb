{
 "cells": [
  {
   "cell_type": "code",
   "execution_count": 1,
   "id": "ac80e13d",
   "metadata": {},
   "outputs": [],
   "source": [
    "# def <function name>():  #defining function\n",
    "#     <operations>\n",
    "    \n",
    "# function_name()     #calling the function"
   ]
  },
  {
   "cell_type": "code",
   "execution_count": 9,
   "id": "595f95d6",
   "metadata": {},
   "outputs": [
    {
     "name": "stdout",
     "output_type": "stream",
     "text": [
      "Hello World\n"
     ]
    }
   ],
   "source": [
    "def hello():\n",
    "    print(\"Hello World\")\n",
    "hello()"
   ]
  },
  {
   "cell_type": "code",
   "execution_count": 11,
   "id": "d140c877",
   "metadata": {},
   "outputs": [
    {
     "name": "stdout",
     "output_type": "stream",
     "text": [
      "Enter p = 34\n",
      "Enter t = 23.34\n",
      "Enter r =v 344.54\n",
      "2734.1316239999996\n"
     ]
    }
   ],
   "source": [
    "def cal():\n",
    "    p = int(input(\"Enter p = \"))          #local variable\n",
    "    t = float(input(\"Enter t = \"))        #local variable     \n",
    "    r = float(input(\"Enter r = \"))       #local variable \n",
    "    i = p*t*r/100                         #local variable \n",
    "    print(i)\n",
    "cal()"
   ]
  },
  {
   "cell_type": "code",
   "execution_count": 13,
   "id": "a220382f",
   "metadata": {},
   "outputs": [
    {
     "name": "stdout",
     "output_type": "stream",
     "text": [
      "Enter p = 23\n",
      "Enter t = 3444\n",
      "Enter r = 3434\n",
      "2720140.08\n"
     ]
    }
   ],
   "source": [
    "def cal():        \n",
    "    i = p*t*r/100                          \n",
    "    print(i)\n",
    "p = int(input(\"Enter p = \"))         #global variable\n",
    "t = float(input(\"Enter t = \"))            \n",
    "r = float(input(\"Enter r = \"))\n",
    "cal()"
   ]
  },
  {
   "cell_type": "code",
   "execution_count": 14,
   "id": "3b86c7ea",
   "metadata": {},
   "outputs": [],
   "source": [
    "#predefined fiunction\n",
    "# print() type() int() str() float() input()"
   ]
  },
  {
   "cell_type": "code",
   "execution_count": 15,
   "id": "f0261344",
   "metadata": {},
   "outputs": [],
   "source": [
    "# function without argument and non return type\n",
    "# function with argument and non return type\n",
    "# function without argument and return type\n",
    "# function with argument and return type"
   ]
  },
  {
   "cell_type": "markdown",
   "id": "7ce9ab04",
   "metadata": {},
   "source": []
  },
  {
   "cell_type": "code",
   "execution_count": 19,
   "id": "f3bc2229",
   "metadata": {},
   "outputs": [
    {
     "name": "stdout",
     "output_type": "stream",
     "text": [
      "Enter p = 23\n",
      "Enter t = 23\n",
      "Enter r = 23\n",
      "121.67\n"
     ]
    }
   ],
   "source": [
    "# function without argument and non return type\n",
    "def cal():\n",
    "    p = int(input(\"Enter p = \"))          #local variable\n",
    "    t = float(input(\"Enter t = \"))        #local variable     \n",
    "    r = float(input(\"Enter r = \"))       #local variable \n",
    "    i = p*t*r/100                         #local variable \n",
    "    print(i)\n",
    "cal()"
   ]
  },
  {
   "cell_type": "code",
   "execution_count": 23,
   "id": "634a513e",
   "metadata": {},
   "outputs": [
    {
     "name": "stdout",
     "output_type": "stream",
     "text": [
      "The are a is =  4\n"
     ]
    }
   ],
   "source": [
    "# function with argument and non return type\n",
    "def area(a,b): #parameter\n",
    "    c = a*b\n",
    "    print(\"The are a is = \", c)\n",
    "area(2,2)   #argument"
   ]
  },
  {
   "cell_type": "code",
   "execution_count": 27,
   "id": "b5e4aa68",
   "metadata": {},
   "outputs": [
    {
     "name": "stdout",
     "output_type": "stream",
     "text": [
      "Enter the name: Chandfra\n",
      "Enter the age: 27\n",
      "Enter add: Pokhara\n",
      "Hello I am Chandfra I am from Pokhara I am 27\n"
     ]
    }
   ],
   "source": [
    "def info(name, age, add):\n",
    "    data = \"Hello I am \"+name+\" I am from \"+add+\" I am \"+str(age)\n",
    "    print(data)\n",
    "name = input(\"Enter the name: \")\n",
    "age = int(input(\"Enter the age: \"))\n",
    "add = input(\"Enter add: \")\n",
    "\n",
    "info(name, age, add)\n"
   ]
  },
  {
   "cell_type": "code",
   "execution_count": 29,
   "id": "8f45ccb8",
   "metadata": {
    "scrolled": true
   },
   "outputs": [
    {
     "name": "stdout",
     "output_type": "stream",
     "text": [
      "Enter l: 23\n",
      "Enter b: 23\n",
      "Enter h: 23\n",
      "529\n",
      "12167\n"
     ]
    }
   ],
   "source": [
    "def area(x,y):\n",
    "    a = x*y\n",
    "    print(a)\n",
    "def volume(x,y,z):\n",
    "    v = x*y*z\n",
    "    print(v)\n",
    "    \n",
    "l = int(input(\"Enter l: \"))\n",
    "b = int(input(\"Enter b: \"))\n",
    "h = int(input(\"Enter h: \"))\n",
    "\n",
    "area(l,b)\n",
    "volume(l,b,h)\n",
    "    "
   ]
  },
  {
   "cell_type": "code",
   "execution_count": 34,
   "id": "acdff054",
   "metadata": {},
   "outputs": [
    {
     "name": "stdout",
     "output_type": "stream",
     "text": [
      "C\n",
      "C++\n",
      "Java\n",
      "Python\n"
     ]
    }
   ],
   "source": [
    "def language(a = \"Python\"):\n",
    "    print(a)\n",
    "\n",
    "language(\"C\")\n",
    "language(\"C++\")\n",
    "language(\"Java\")\n",
    "language()"
   ]
  },
  {
   "cell_type": "code",
   "execution_count": 35,
   "id": "663ac082",
   "metadata": {},
   "outputs": [],
   "source": [
    "# Write a program to create a calculator using function\n",
    "# to create a billing system using function with grand total"
   ]
  },
  {
   "cell_type": "code",
   "execution_count": 1,
   "id": "01035a48",
   "metadata": {},
   "outputs": [
    {
     "name": "stdout",
     "output_type": "stream",
     "text": [
      "<function calulator at 0x7fe155f5c940>\n",
      "Enter a number: 2\n",
      "Enter a number: 2\n",
      "+ - / *: +\n",
      "4\n",
      "None\n"
     ]
    }
   ],
   "source": [
    "def calulator(a,b):    \n",
    "    if o == \"+\":\n",
    "          print(a+b)\n",
    "    elif o == '-':\n",
    "          print(a-b)\n",
    "    elif o == '*':\n",
    "          print(a*b)\n",
    "    elif o == '/':\n",
    "          print(a/b)\n",
    "    else:\n",
    "          print(\"Invalid operator\")\n",
    "             \n",
    "print(calulator)\n",
    "    \n",
    "    \n",
    "a = int(input(\"Enter a number: \"))\n",
    "b = int(input(\"Enter a number: \"))\n",
    "o = input(\"+ - / *: \")\n",
    "    \n",
    "print(calulator(a,b))"
   ]
  },
  {
   "cell_type": "code",
   "execution_count": 56,
   "id": "89e17ab2",
   "metadata": {},
   "outputs": [
    {
     "name": "stdout",
     "output_type": "stream",
     "text": [
      "Enter a number: 23\n",
      "Enter a number: 23\n",
      "+ - / * +\n",
      "529\n"
     ]
    }
   ],
   "source": [
    "def calulator(a,b,o):    \n",
    "    cal= a*b\n",
    "    print(cal)\n",
    "        \n",
    "a = int(input(\"Enter a number: \"))\n",
    "b = int(input(\"Enter a number: \"))\n",
    "o = input(\"+ - / * \")\n",
    "    \n",
    "calulator(a,b,o)"
   ]
  },
  {
   "cell_type": "code",
   "execution_count": 9,
   "id": "130f0003",
   "metadata": {},
   "outputs": [
    {
     "name": "stdout",
     "output_type": "stream",
     "text": [
      "Enter the Product name = Pop\n",
      "Price of the product = 23\n",
      "Quantity of the product = 2\n",
      "Your grand total for 2 quantity will be 46\n"
     ]
    }
   ],
   "source": [
    "# to create a billing system using function with grand total\n",
    "\n",
    "\n",
    "def billing():\n",
    "    a = price*quantity\n",
    "    print(\"Your grand total for\", quantity, \"quantity will be\", a)\n",
    "\n",
    "name = input(\"Enter the Product name = \")\n",
    "price = int(input(\"Price of the product = \"))\n",
    "quantity = int(input(\"Quantity of the product = \"))\n",
    "\n",
    "billing()\n"
   ]
  },
  {
   "cell_type": "code",
   "execution_count": 17,
   "id": "95b1cdd0",
   "metadata": {},
   "outputs": [
    {
     "name": "stdout",
     "output_type": "stream",
     "text": [
      "Hello World\n"
     ]
    }
   ],
   "source": [
    "#fuction with no argument and return type:\n",
    "def hello():\n",
    "    x = \"Hello World\"\n",
    "    return x\n",
    "print(hello())"
   ]
  },
  {
   "cell_type": "code",
   "execution_count": 22,
   "id": "c6e301c4",
   "metadata": {},
   "outputs": [
    {
     "name": "stdout",
     "output_type": "stream",
     "text": [
      "Enter length: 2\n",
      "Enter breath: 2\n",
      "4\n"
     ]
    }
   ],
   "source": [
    "def cal():\n",
    "    l = int(input(\"Enter length: \"))\n",
    "    b = int(input(\"Enter breath: \"))\n",
    "    a = l*b\n",
    "    return a\n",
    "#print(cal())\n",
    "area = cal()\n",
    "print(area)"
   ]
  },
  {
   "cell_type": "code",
   "execution_count": 24,
   "id": "62cca62f",
   "metadata": {},
   "outputs": [
    {
     "name": "stdout",
     "output_type": "stream",
     "text": [
      "Enter length: 23\n",
      "Enter breath: 23\n",
      "Enter height: 21\n",
      "The volume will be  11109\n"
     ]
    }
   ],
   "source": [
    "def cal():\n",
    "    l = int(input(\"Enter length: \"))\n",
    "    b = int(input(\"Enter breath: \"))\n",
    "    a = l*b\n",
    "    return a\n",
    "area = cal()\n",
    "h = int(input(\"Enter height: \"))\n",
    "v = area*h\n",
    "print(\"The volume will be \",v)"
   ]
  },
  {
   "cell_type": "code",
   "execution_count": 27,
   "id": "bc248c4c",
   "metadata": {},
   "outputs": [
    {
     "name": "stdout",
     "output_type": "stream",
     "text": [
      "Enter length: 23\n",
      "Enter breath: 23\n",
      "Enter height: 21\n",
      "The volume will be  11109\n"
     ]
    }
   ],
   "source": [
    "#fuction with argument and return type:\n",
    "def cal(l,b):\n",
    "    a = l*b\n",
    "    return a\n",
    "l = int(input(\"Enter length: \"))\n",
    "b = int(input(\"Enter breath: \"))\n",
    "a = l*b \n",
    "area = cal(l,b)\n",
    "h = int(input(\"Enter height: \"))\n",
    "v = area*h\n",
    "print(\"The volume will be \",v)"
   ]
  },
  {
   "cell_type": "code",
   "execution_count": 29,
   "id": "d91f0763",
   "metadata": {},
   "outputs": [
    {
     "name": "stdout",
     "output_type": "stream",
     "text": [
      "Enter length: 23\n",
      "Enter breath: 23\n",
      "Enter height: 21\n",
      "The area is  529\n",
      "The volume is  11109\n"
     ]
    }
   ],
   "source": [
    "#fuction with argument and return type:\n",
    "def cal(l,b,h):\n",
    "    a = l*b\n",
    "    v = a*h\n",
    "    return a,v\n",
    "l = int(input(\"Enter length: \"))\n",
    "b = int(input(\"Enter breath: \"))\n",
    "h = int(input(\"Enter height: \"))\n",
    "a,v = cal(l,b,h)\n",
    "\n",
    "print(\"The area is \", a)\n",
    "print(\"The volume is \", v)"
   ]
  },
  {
   "cell_type": "code",
   "execution_count": null,
   "id": "9a74154b",
   "metadata": {},
   "outputs": [],
   "source": [
    "def add(a,b):\n",
    "    return a+b\n",
    "def sub(a,b):\n",
    "    return a-b\n",
    "def mul(a,b):\n",
    "    return a*b\n",
    "def div(a,b):\n",
    "    return a/b\n",
    "def cal():\n",
    "    a = int(input(\"Enter value: \"))\n",
    "    b = int(input(\"Enter value: \"))\n",
    "    o = input(\"+ - / *: \")\n",
    "    if o == \"+\":\n",
    "          print(a+b)\n",
    "    elif o == '-':\n",
    "          print(a-b)\n",
    "    elif o == '*':\n",
    "          print(a*b)\n",
    "    elif o == '/':\n",
    "          print(a/b)\n",
    "    else:\n",
    "          print(\"Invalid operator\")\n",
    "    x = input(\"Enter y for more value: \")\n",
    "    if x == \"y\":\n",
    "        cal()\n",
    "cal()"
   ]
  },
  {
   "cell_type": "code",
   "execution_count": null,
   "id": "266fc35d",
   "metadata": {},
   "outputs": [],
   "source": []
  }
 ],
 "metadata": {
  "kernelspec": {
   "display_name": "Python 3 (ipykernel)",
   "language": "python",
   "name": "python3"
  },
  "language_info": {
   "codemirror_mode": {
    "name": "ipython",
    "version": 3
   },
   "file_extension": ".py",
   "mimetype": "text/x-python",
   "name": "python",
   "nbconvert_exporter": "python",
   "pygments_lexer": "ipython3",
   "version": "3.9.12"
  }
 },
 "nbformat": 4,
 "nbformat_minor": 5
}
