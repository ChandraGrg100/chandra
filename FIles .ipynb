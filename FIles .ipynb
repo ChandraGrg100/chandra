{
 "cells": [
  {
   "cell_type": "code",
   "execution_count": 1,
   "id": "400cd0c7",
   "metadata": {},
   "outputs": [],
   "source": [
    "# a = open(\"file name\",\"mode\")\n",
    "# a.close()\n",
    "# r = read\n",
    "# x = create\n",
    "# w = write\n",
    "# a = append"
   ]
  },
  {
   "cell_type": "code",
   "execution_count": 7,
   "id": "9958c105",
   "metadata": {},
   "outputs": [
    {
     "name": "stdout",
     "output_type": "stream",
     "text": [
      "Same name file\n"
     ]
    }
   ],
   "source": [
    "try:\n",
    "    b = open(\"data.txt\",\"x\")\n",
    "    b.close()\n",
    "except:\n",
    "    print(\"Same name file\")"
   ]
  },
  {
   "cell_type": "code",
   "execution_count": 10,
   "id": "66c7660c",
   "metadata": {
    "collapsed": true
   },
   "outputs": [
    {
     "ename": "FileExistsError",
     "evalue": "[Errno 17] File exists: 'data.txt'",
     "output_type": "error",
     "traceback": [
      "\u001b[0;31m---------------------------------------------------------------------------\u001b[0m",
      "\u001b[0;31mFileExistsError\u001b[0m                           Traceback (most recent call last)",
      "Input \u001b[0;32mIn [10]\u001b[0m, in \u001b[0;36m<cell line: 1>\u001b[0;34m()\u001b[0m\n\u001b[0;32m----> 1\u001b[0m \u001b[38;5;28;01mwith\u001b[39;00m \u001b[38;5;28;43mopen\u001b[39;49m\u001b[43m(\u001b[49m\u001b[38;5;124;43m\"\u001b[39;49m\u001b[38;5;124;43mdata.txt\u001b[39;49m\u001b[38;5;124;43m\"\u001b[39;49m\u001b[43m,\u001b[49m\u001b[38;5;124;43m\"\u001b[39;49m\u001b[38;5;124;43mx\u001b[39;49m\u001b[38;5;124;43m\"\u001b[39;49m\u001b[43m)\u001b[49m \u001b[38;5;28;01mas\u001b[39;00m b:\n\u001b[1;32m      2\u001b[0m     \u001b[38;5;28;01mpass\u001b[39;00m\n",
      "\u001b[0;31mFileExistsError\u001b[0m: [Errno 17] File exists: 'data.txt'"
     ]
    }
   ],
   "source": [
    "with open(\"data.txt\",\"x\") as b:\n",
    "    pass"
   ]
  },
  {
   "cell_type": "code",
   "execution_count": 18,
   "id": "c4ae6e6a",
   "metadata": {},
   "outputs": [
    {
     "name": "stdout",
     "output_type": "stream",
     "text": [
      "1.Hello World\n",
      "2.Hello World\n",
      "3.Hello World\n",
      "4.Hello World\n"
     ]
    }
   ],
   "source": [
    "b = open(\"data.txt\", \"r\")\n",
    "x = b.read()\n",
    "print(x)\n",
    "b.close()"
   ]
  },
  {
   "cell_type": "code",
   "execution_count": 19,
   "id": "d9caa35a",
   "metadata": {},
   "outputs": [
    {
     "name": "stdout",
     "output_type": "stream",
     "text": [
      "['1.Hello World', '2.Hello World', '3.Hello World', '4.Hello World']\n"
     ]
    }
   ],
   "source": [
    "y = x.split(\"\\n\")\n",
    "print(y)"
   ]
  },
  {
   "cell_type": "code",
   "execution_count": 21,
   "id": "c6aca90b",
   "metadata": {},
   "outputs": [
    {
     "name": "stdout",
     "output_type": "stream",
     "text": [
      "3.Hello World\n"
     ]
    }
   ],
   "source": [
    "print(y[2])"
   ]
  },
  {
   "cell_type": "code",
   "execution_count": 22,
   "id": "44cb8dc8",
   "metadata": {},
   "outputs": [],
   "source": [
    "with open(\"data.txt\",\"w\") as b:\n",
    "    b.write(\"Hello Planet\")"
   ]
  },
  {
   "cell_type": "code",
   "execution_count": 24,
   "id": "cc25466c",
   "metadata": {},
   "outputs": [],
   "source": [
    "b = open(\"data.txt\",\"w\")\n",
    "b.write(\"Hi Planet\")\n",
    "b.close()"
   ]
  },
  {
   "cell_type": "code",
   "execution_count": 27,
   "id": "61d21b29",
   "metadata": {},
   "outputs": [],
   "source": [
    "b = open(\"data.txt\",\"a\")\n",
    "b.write(\"\\nHi Planet\")\n",
    "b.close()"
   ]
  },
  {
   "cell_type": "code",
   "execution_count": 30,
   "id": "a1f3c0d7",
   "metadata": {},
   "outputs": [],
   "source": [
    "b = open(\"data.txt3\",\"a\")\n",
    "b.write(\"\\n22.Hi Planet\")\n",
    "b.close()"
   ]
  },
  {
   "cell_type": "code",
   "execution_count": 32,
   "id": "bd1f7e49",
   "metadata": {},
   "outputs": [
    {
     "name": "stdout",
     "output_type": "stream",
     "text": [
      "Enter the number: 2\n",
      "Enter the name: Coke\n",
      "Enter the price: 20\n",
      "Enter the quantity: 2\n",
      "Enter the name: Fanta\n",
      "Enter the price: 3\n",
      "Enter the quantity: 30\n",
      "Coke 20 2 40\n",
      "Fanta 3 30 90\n",
      "\n"
     ]
    }
   ],
   "source": [
    "bill = \"\"\n",
    "n = int(input(\"Enter the number: \"))\n",
    "for i in range(n):\n",
    "    name = input(\"Enter the name: \")\n",
    "    price = int(input(\"Enter the price: \"))\n",
    "    quantity = int(input(\"Enter the quantity: \"))\n",
    "    total = price*quantity\n",
    "    data = f\"{name} {price} {quantity} {total}\\n\"\n",
    "    bill = bill + data\n",
    "print(bill)"
   ]
  },
  {
   "cell_type": "code",
   "execution_count": 33,
   "id": "93ccd0cc",
   "metadata": {},
   "outputs": [],
   "source": [
    "b = open(\"data.txt\",\"w\")\n",
    "b.write(bill)\n",
    "b.close()"
   ]
  },
  {
   "cell_type": "code",
   "execution_count": 36,
   "id": "7a34b9ef",
   "metadata": {
    "collapsed": true
   },
   "outputs": [
    {
     "name": "stdout",
     "output_type": "stream",
     "text": [
      "Enter the number: 2\n",
      "Enter the name: Coke\n",
      "Enter the price: 40\n",
      "Enter the quantity: 3\n",
      "Enter the name: Fanta\n",
      "Enter the price: 50\n",
      "Enter the quantity: 4\n",
      "Coke,40,3,120\n",
      "Fanta,50,4,200\n",
      "\n"
     ]
    }
   ],
   "source": [
    "bill = \"\"\n",
    "n = int(input(\"Enter the number: \"))\n",
    "for i in range(n):\n",
    "    name = input(\"Enter the name: \")\n",
    "    price = int(input(\"Enter the price: \"))\n",
    "    quantity = int(input(\"Enter the quantity: \"))\n",
    "    total = price*quantity\n",
    "    data = f\"{name},{price},{quantity},{total}\\n\"\n",
    "    bill = bill + data\n",
    "print(bill)\n",
    "\n",
    "b = open(\"data.csv\",\"w\")\n",
    "b.write(\"Name,Price,quantity,total\\n\")\n",
    "b.write(bill)\n",
    "b.close()"
   ]
  },
  {
   "cell_type": "code",
   "execution_count": 37,
   "id": "b1a91270",
   "metadata": {},
   "outputs": [
    {
     "name": "stdout",
     "output_type": "stream",
     "text": [
      "    Name  Price  quantity  total\n",
      "0   Coke     40         3    120\n",
      "1  Fanta     50         4    200\n"
     ]
    }
   ],
   "source": [
    "import pandas as pd \n",
    "b = pd.read_csv(\"data.csv\")\n",
    "print(b)"
   ]
  },
  {
   "cell_type": "code",
   "execution_count": 10,
   "id": "88621099",
   "metadata": {},
   "outputs": [
    {
     "name": "stdout",
     "output_type": "stream",
     "text": [
      "Enter the number: 5\n",
      "Enter the name: Mark\n",
      "Enter marks of math: 56\n",
      "Enter marks of science: 78\n",
      "Enter marks of nepali: 67\n",
      "Enter marks of english: 88\n",
      "Enter marks of health: 76\n",
      "Enter the name: Bob\n",
      "Enter marks of math: 77\n",
      "Enter marks of science: 65\n",
      "Enter marks of nepali: 97\n",
      "Enter marks of english: 66\n",
      "Enter marks of health: 88\n",
      "Enter the name: Katy\n",
      "Enter marks of math: 77\n",
      "Enter marks of science: 88\n",
      "Enter marks of nepali: 56\n",
      "Enter marks of english: 77\n",
      "Enter marks of health: 70\n",
      "Enter the name: Taylor\n",
      "Enter marks of math: 90\n",
      "Enter marks of science: 95\n",
      "Enter marks of nepali: 89\n",
      "Enter marks of english: 88\n",
      "Enter marks of health: 96\n",
      "Enter the name: Wiz\n",
      "Enter marks of math: 70\n",
      "Enter marks of science: 80\n",
      "Enter marks of nepali: 90\n",
      "Enter marks of english: 99\n",
      "Enter marks of health: 77\n",
      "Mark,56,78,67,88,76,73.0,2.92\n",
      "Bob,77,65,97,66,88,78.6,3.1439999999999997\n",
      "Katy,77,88,56,77,70,73.6,2.944\n",
      "Taylor,90,95,89,88,96,91.6,3.6639999999999997\n",
      "Wiz,70,80,90,99,77,83.2,3.3280000000000003\n",
      "\n"
     ]
    }
   ],
   "source": [
    "report = \"\"\n",
    "n = int(input(\"Enter the number: \"))\n",
    "for i in range(1, n+1):\n",
    "    name = input(\"Enter the name: \")\n",
    "    math = int(input(\"Enter marks of math: \"))\n",
    "    science = int(input(\"Enter marks of science: \"))\n",
    "    nepali = int(input(\"Enter marks of nepali: \"))\n",
    "    english = int(input(\"Enter marks of english: \"))\n",
    "    health = int(input(\"Enter marks of health: \"))\n",
    "    total = math+science+nepali+english+health\n",
    "    per = total*100/500\n",
    "    gpa = per/100*4\n",
    "    data = f\"{name},{math},{science},{nepali},{english},{health},{per},{gpa}\\n\"\n",
    "    report = report+data\n",
    "print(report)\n",
    "\n",
    "b = open(\"data.csv\",\"w\")\n",
    "b.write(\"name,math,science,nepali,english,health,per,gpa\\n\")\n",
    "b.write(report)\n",
    "b.close()\n"
   ]
  },
  {
   "cell_type": "code",
   "execution_count": 11,
   "id": "790bee0e",
   "metadata": {},
   "outputs": [
    {
     "name": "stdout",
     "output_type": "stream",
     "text": [
      "     name  math  science  nepali  english  health   per    gpa\n",
      "0    Mark    56       78      67       88      76  73.0  2.920\n",
      "1     Bob    77       65      97       66      88  78.6  3.144\n",
      "2    Katy    77       88      56       77      70  73.6  2.944\n",
      "3  Taylor    90       95      89       88      96  91.6  3.664\n",
      "4     Wiz    70       80      90       99      77  83.2  3.328\n"
     ]
    }
   ],
   "source": [
    "import pandas as pd \n",
    "b = pd.read_csv(\"data.csv\")\n",
    "print(b)"
   ]
  },
  {
   "cell_type": "code",
   "execution_count": null,
   "id": "19789767",
   "metadata": {},
   "outputs": [],
   "source": []
  }
 ],
 "metadata": {
  "kernelspec": {
   "display_name": "Python 3 (ipykernel)",
   "language": "python",
   "name": "python3"
  },
  "language_info": {
   "codemirror_mode": {
    "name": "ipython",
    "version": 3
   },
   "file_extension": ".py",
   "mimetype": "text/x-python",
   "name": "python",
   "nbconvert_exporter": "python",
   "pygments_lexer": "ipython3",
   "version": "3.9.12"
  }
 },
 "nbformat": 4,
 "nbformat_minor": 5
}
