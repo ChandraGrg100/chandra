{
 "cells": [
  {
   "cell_type": "code",
   "execution_count": 1,
   "id": "cb5cd3c5",
   "metadata": {},
   "outputs": [],
   "source": [
    "# Comparision Operator\n",
    "#if <condition>\n",
    "#<operations>\n",
    "#elif:\n",
    "#   <operations>\n",
    "#else:\n",
    "#    <operation>"
   ]
  },
  {
   "cell_type": "code",
   "execution_count": 2,
   "id": "c7f9ea9c",
   "metadata": {},
   "outputs": [],
   "source": [
    "# < >, <=, >=, == (equal), !=(not equal to)"
   ]
  },
  {
   "cell_type": "code",
   "execution_count": 9,
   "id": "e9e05e3b",
   "metadata": {},
   "outputs": [
    {
     "name": "stdout",
     "output_type": "stream",
     "text": [
      "True\n"
     ]
    }
   ],
   "source": [
    "a = 10\n",
    "b = 20\n",
    "print(a!=b)"
   ]
  },
  {
   "cell_type": "code",
   "execution_count": 16,
   "id": "e72b7b35",
   "metadata": {},
   "outputs": [
    {
     "name": "stdout",
     "output_type": "stream",
     "text": [
      "Enter value a = 0\n",
      "The value of a is +\n"
     ]
    }
   ],
   "source": [
    "a = int(input(\"Enter value a = \"))\n",
    "if a >= 0:\n",
    "    print(\"The value of a is +\")\n",
    "else: \n",
    "    print(\"The value of a is -\")"
   ]
  },
  {
   "cell_type": "code",
   "execution_count": 18,
   "id": "9077245e",
   "metadata": {},
   "outputs": [
    {
     "name": "stdout",
     "output_type": "stream",
     "text": [
      "Enter value a = 0\n",
      "The value is 0 \n"
     ]
    }
   ],
   "source": [
    "a = int(input(\"Enter value a = \"))\n",
    "if a > 0:\n",
    "    print(\"The value of a is +\")\n",
    "elif a<0: \n",
    "    print(\"The value of a is -\")\n",
    "else:\n",
    "    print(\"The value is 0 \")"
   ]
  },
  {
   "cell_type": "code",
   "execution_count": 29,
   "id": "bec9ea86",
   "metadata": {},
   "outputs": [
    {
     "name": "stdout",
     "output_type": "stream",
     "text": [
      "Enter the value a = 10\n",
      "Enter the value b = 10\n",
      "Equal\n"
     ]
    }
   ],
   "source": [
    "a = int(input(\"Enter the value a = \"))\n",
    "b = int(input(\"Enter the value b = \"))\n",
    "if a>b:\n",
    "    print(\"A is greater.\")\n",
    "elif a<b: \n",
    "    print(\"B is greater.\")\n",
    "else:\n",
    "    print(\"Equal\")"
   ]
  },
  {
   "cell_type": "code",
   "execution_count": 49,
   "id": "053b0c00",
   "metadata": {},
   "outputs": [
    {
     "name": "stdout",
     "output_type": "stream",
     "text": [
      "Enter the value a = 20\n",
      "20 is Even\n"
     ]
    }
   ],
   "source": [
    "a = int(input(\"Enter the value a = \"))\n",
    "\n",
    "if a%2 == 0:\n",
    "    print(a, \"is Even\")\n",
    "else:\n",
    "    print(\"Odd\")\n",
    "    "
   ]
  },
  {
   "cell_type": "code",
   "execution_count": 64,
   "id": "a5f5cffe",
   "metadata": {},
   "outputs": [
    {
     "name": "stdout",
     "output_type": "stream",
     "text": [
      "Enter the value a = 20\n",
      "Enter the value b = 20\n",
      "Enter + - * / +\n",
      "40\n"
     ]
    }
   ],
   "source": [
    "a = int(input(\"Enter the value a = \"))\n",
    "b = int(input(\"Enter the value b = \"))\n",
    "o = input(\"Enter + - * / \")\n",
    "if o == \"+\":\n",
    "          print(a+b)\n",
    "elif o == '-':\n",
    "          print(a-b)\n",
    "elif o == '*':\n",
    "    print(a*b)\n",
    "elif o == '/' and b !=0:\n",
    "    print(a/b)\n",
    "elif o == '/' and b ==0:\n",
    "    print(\"The value of b cannot be zero\")\n",
    "else:\n",
    "    print(\"Invalid operator\")"
   ]
  },
  {
   "cell_type": "code",
   "execution_count": 62,
   "id": "e97f3ebb",
   "metadata": {},
   "outputs": [
    {
     "name": "stdout",
     "output_type": "stream",
     "text": [
      "True\n",
      "False\n"
     ]
    }
   ],
   "source": [
    "# and &\n",
    "# or /\n",
    "\n",
    "print(True or False)\n",
    "print(True and False)"
   ]
  },
  {
   "cell_type": "code",
   "execution_count": 52,
   "id": "7bb31bbd",
   "metadata": {},
   "outputs": [],
   "source": [
    "# Chained condition"
   ]
  },
  {
   "cell_type": "code",
   "execution_count": 6,
   "id": "0244f0ac",
   "metadata": {},
   "outputs": [
    {
     "name": "stdout",
     "output_type": "stream",
     "text": [
      "2\n"
     ]
    }
   ],
   "source": [
    "a = 12\n",
    "b = 5\n",
    "c = a%b\n",
    "print(c)"
   ]
  },
  {
   "cell_type": "code",
   "execution_count": null,
   "id": "397a3a43",
   "metadata": {},
   "outputs": [],
   "source": []
  },
  {
   "cell_type": "code",
   "execution_count": null,
   "id": "96798750",
   "metadata": {},
   "outputs": [],
   "source": []
  }
 ],
 "metadata": {
  "kernelspec": {
   "display_name": "Python 3 (ipykernel)",
   "language": "python",
   "name": "python3"
  },
  "language_info": {
   "codemirror_mode": {
    "name": "ipython",
    "version": 3
   },
   "file_extension": ".py",
   "mimetype": "text/x-python",
   "name": "python",
   "nbconvert_exporter": "python",
   "pygments_lexer": "ipython3",
   "version": "3.9.12"
  }
 },
 "nbformat": 4,
 "nbformat_minor": 5
}
