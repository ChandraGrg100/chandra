{
 "cells": [
  {
   "cell_type": "code",
   "execution_count": 3,
   "id": "bda426cd",
   "metadata": {},
   "outputs": [
    {
     "name": "stdout",
     "output_type": "stream",
     "text": [
      "Hello World\n",
      "<class 'str'>\n"
     ]
    }
   ],
   "source": [
    "a = \"Hello World\"\n",
    "print(a)\n",
    "print(type(a))"
   ]
  },
  {
   "cell_type": "code",
   "execution_count": 5,
   "id": "fe67f153",
   "metadata": {},
   "outputs": [
    {
     "name": "stdout",
     "output_type": "stream",
     "text": [
      "Hairy Ball\n"
     ]
    }
   ],
   "source": [
    "a = \"Hairy\"\n",
    "b = \"Ball\"\n",
    "c = a +\" \"+ b\n",
    "print(c)"
   ]
  },
  {
   "cell_type": "code",
   "execution_count": 6,
   "id": "7000b2ac",
   "metadata": {},
   "outputs": [
    {
     "name": "stdout",
     "output_type": "stream",
     "text": [
      "Hello World \n",
      "Hello World \n",
      "\n"
     ]
    }
   ],
   "source": [
    "a = \"Hello World \\n\"\n",
    "print(a*2)"
   ]
  },
  {
   "cell_type": "code",
   "execution_count": 8,
   "id": "20be3604",
   "metadata": {},
   "outputs": [
    {
     "name": "stdout",
     "output_type": "stream",
     "text": [
      "Enter the a: 23\n",
      "Enter the b: 23\n",
      "2323\n"
     ]
    }
   ],
   "source": [
    "a = input(\"Enter the a: \")\n",
    "b = input(\"Enter the b: \")\n",
    "c = a + b\n",
    "print(c)"
   ]
  },
  {
   "cell_type": "code",
   "execution_count": 23,
   "id": "7560c3b3",
   "metadata": {},
   "outputs": [
    {
     "name": "stdout",
     "output_type": "stream",
     "text": [
      "H\n",
      "Hello\n",
      " World\n",
      "Hello \n",
      "HloWrd\n",
      "HloWrd\n"
     ]
    }
   ],
   "source": [
    "a = \"Hello World\"\n",
    "print(a[0])\n",
    "print(a[0:5])\n",
    "print(a[5: ])\n",
    "print(a[0:-5])\n",
    "print(a[0:11:2]) #gap by 2 \n",
    "print(a[::2]) #gap by 2\n"
   ]
  },
  {
   "cell_type": "code",
   "execution_count": 27,
   "id": "113666c4",
   "metadata": {},
   "outputs": [
    {
     "name": "stdout",
     "output_type": "stream",
     "text": [
      "dlroW olleH\n"
     ]
    }
   ],
   "source": [
    "a = \"Hello World\"\n",
    "print(a[::-1])"
   ]
  },
  {
   "cell_type": "code",
   "execution_count": 30,
   "id": "95767b30",
   "metadata": {},
   "outputs": [
    {
     "name": "stdout",
     "output_type": "stream",
     "text": [
      "olleH\n"
     ]
    }
   ],
   "source": [
    "a = \"Hello World\"\n",
    "\n",
    "print(a[-7:-12:-1])"
   ]
  },
  {
   "cell_type": "code",
   "execution_count": 34,
   "id": "5f82331a",
   "metadata": {},
   "outputs": [
    {
     "name": "stdout",
     "output_type": "stream",
     "text": [
      "dlroW\n"
     ]
    }
   ],
   "source": [
    "a = \"Hello World\"\n",
    "print(a[-1:-6:-1])"
   ]
  },
  {
   "cell_type": "code",
   "execution_count": 38,
   "id": "eb68c043",
   "metadata": {},
   "outputs": [
    {
     "name": "stdout",
     "output_type": "stream",
     "text": [
      "olleH WOrld\n"
     ]
    }
   ],
   "source": [
    "a = \"Hello WOrld\"\n",
    "b = a[-7:-12:-1]\n",
    "c = a[5:]\n",
    "d = b + c \n",
    "print(d)"
   ]
  },
  {
   "cell_type": "code",
   "execution_count": 42,
   "id": "73e41d94",
   "metadata": {},
   "outputs": [
    {
     "name": "stdout",
     "output_type": "stream",
     "text": [
      "Hello I amChadraMy age is27and I am fromPokhara\n"
     ]
    }
   ],
   "source": [
    "name = \"Chadra\"\n",
    "age = 27\n",
    "add = \"Pokhara\"\n",
    "info = \"Hello I am \"+name+ \"My age is \"+str(age)+ \"and I am from\"+add\n",
    "print(info)"
   ]
  },
  {
   "cell_type": "code",
   "execution_count": 20,
   "id": "6da8fa0d",
   "metadata": {},
   "outputs": [
    {
     "name": "stdout",
     "output_type": "stream",
     "text": [
      "Enter name: Chandr\n",
      "Enter age: 26\n",
      "Enter address: Pokhara\n",
      "Hello I am Chandr. I am from Pokhara. I am 26\n"
     ]
    }
   ],
   "source": [
    "# string formatting\n",
    "name = input(\"Enter name: \")\n",
    "age = int(input(\"Enter age: \"))\n",
    "add = input(\"Enter address: \")\n",
    "info = f\"Hello I am {name}. I am from {add}. I am {age}\"   #formatting \n",
    "print(info)"
   ]
  },
  {
   "cell_type": "code",
   "execution_count": 48,
   "id": "777e5978",
   "metadata": {},
   "outputs": [
    {
     "name": "stdout",
     "output_type": "stream",
     "text": [
      "Yes\n"
     ]
    }
   ],
   "source": [
    "a = \"Chandra Apsara Lina Luna Sammay Samita\"\n",
    "if \"Chandra\" in a:\n",
    "    print(\"Yes\")\n",
    "else:\n",
    "    print(\"No\")"
   ]
  },
  {
   "cell_type": "code",
   "execution_count": 2,
   "id": "9a820e91",
   "metadata": {},
   "outputs": [
    {
     "name": "stdout",
     "output_type": "stream",
     "text": [
      "Enter the name: chandra\n",
      "No\n"
     ]
    }
   ],
   "source": [
    "a = \"Chandra Apsara Lina Luna Sammay Samita\"\n",
    "search = input(\"Enter the name: \").upper()\n",
    "if search in a:\n",
    "    print(\"Yes\")\n",
    "else:\n",
    "    print(\"No\")"
   ]
  },
  {
   "cell_type": "code",
   "execution_count": 13,
   "id": "0a58caf1",
   "metadata": {},
   "outputs": [
    {
     "name": "stdout",
     "output_type": "stream",
     "text": [
      "Enter the name: chandra\n",
      "No\n"
     ]
    }
   ],
   "source": [
    "a = \"Chandra Apsara Lina Luna Sammay Samita Chandr Chandra\"\n",
    "search = input(\"Enter the name: \")\n",
    "if search in a:\n",
    "    print(\"Yes\",a.count(search))\n",
    "else:\n",
    "    print(\"No\")"
   ]
  },
  {
   "cell_type": "code",
   "execution_count": 56,
   "id": "4aa72c0c",
   "metadata": {},
   "outputs": [],
   "source": [
    "#immutable(unchangeable)\n",
    "#mutable(Changeable)"
   ]
  },
  {
   "cell_type": "code",
   "execution_count": 59,
   "id": "d4bd0fac",
   "metadata": {},
   "outputs": [
    {
     "name": "stdout",
     "output_type": "stream",
     "text": [
      "Chandra Apsra Lina Luna Sammay Samita Chandr Chandra\n",
      "Chandra Apsara Lina Luna Sammay Samita Chandr Chandra\n"
     ]
    }
   ],
   "source": [
    "#replace #immutable \n",
    "a = \"Chandra Apsara Lina Luna Sammay Samita Chandr Chandra\"\n",
    "print(a.replace(\"Apsara\", \"Apsra\"))\n",
    "print(a)"
   ]
  },
  {
   "cell_type": "code",
   "execution_count": 60,
   "id": "69e04a35",
   "metadata": {},
   "outputs": [
    {
     "name": "stdout",
     "output_type": "stream",
     "text": [
      "Chandra Apsra Lina Luna Sammay Samita Chandr Chandra\n"
     ]
    }
   ],
   "source": [
    "#replace #mutable \n",
    "a = \"Chandra Apsara Lina Luna Sammay Samita Chandr Chandra\"\n",
    "a = a.replace(\"Apsara\", \"Apsra\")\n",
    "print(a)"
   ]
  },
  {
   "cell_type": "code",
   "execution_count": 62,
   "id": "46a1d335",
   "metadata": {},
   "outputs": [
    {
     "name": "stdout",
     "output_type": "stream",
     "text": [
      "Chandra  Lina Luna Sammay Samita Chandr Chandra\n"
     ]
    }
   ],
   "source": [
    "#remove\n",
    "a = \"Chandra Apsara Lina Luna Sammay Samita Chandr Chandra\"\n",
    "a = a.replace(\"Apsara\",\"\")\n",
    "print(a)"
   ]
  },
  {
   "cell_type": "code",
   "execution_count": 28,
   "id": "a716dbd6",
   "metadata": {},
   "outputs": [
    {
     "name": "stdout",
     "output_type": "stream",
     "text": [
      "Enter the name: lina\n",
      "Yes 1\n"
     ]
    }
   ],
   "source": [
    "a = \"Chandra Apsara Lina Luna Sammay Samita\".lower()\n",
    "search = input(\"Enter the name: \").lower()\n",
    "if search in a:\n",
    "    print(\"Yes\",a.count(search))\n",
    "else:\n",
    "    print(\"No\")\n"
   ]
  },
  {
   "cell_type": "code",
   "execution_count": null,
   "id": "b82d5774",
   "metadata": {},
   "outputs": [],
   "source": []
  },
  {
   "cell_type": "code",
   "execution_count": null,
   "id": "8bf7c4c4",
   "metadata": {},
   "outputs": [],
   "source": []
  }
 ],
 "metadata": {
  "kernelspec": {
   "display_name": "Python 3 (ipykernel)",
   "language": "python",
   "name": "python3"
  },
  "language_info": {
   "codemirror_mode": {
    "name": "ipython",
    "version": 3
   },
   "file_extension": ".py",
   "mimetype": "text/x-python",
   "name": "python",
   "nbconvert_exporter": "python",
   "pygments_lexer": "ipython3",
   "version": "3.9.12"
  }
 },
 "nbformat": 4,
 "nbformat_minor": 5
}
