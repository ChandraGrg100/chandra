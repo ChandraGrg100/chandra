{
 "cells": [
  {
   "cell_type": "code",
   "execution_count": 2,
   "id": "82ce1187",
   "metadata": {},
   "outputs": [],
   "source": [
    "# TUPLE\n",
    "# indexed\n",
    "# ordered \n",
    "# multiple and duplicate value\n",
    "# Immutable"
   ]
  },
  {
   "cell_type": "code",
   "execution_count": 3,
   "id": "d3357bb8",
   "metadata": {},
   "outputs": [
    {
     "name": "stdout",
     "output_type": "stream",
     "text": [
      "<class 'tuple'>\n"
     ]
    },
    {
     "data": {
      "text/plain": [
       "(1, 2, 3, 4)"
      ]
     },
     "execution_count": 3,
     "metadata": {},
     "output_type": "execute_result"
    }
   ],
   "source": [
    "a = (1,2,3,4)\n",
    "print(type(a))\n",
    "a"
   ]
  },
  {
   "cell_type": "code",
   "execution_count": 4,
   "id": "9c86fcf0",
   "metadata": {},
   "outputs": [
    {
     "name": "stdout",
     "output_type": "stream",
     "text": [
      "1\n",
      "(1, 2, 3)\n"
     ]
    }
   ],
   "source": [
    "a = (1,2,3,4,5)\n",
    "print(a[0])\n",
    "print(a[0:3])"
   ]
  },
  {
   "cell_type": "code",
   "execution_count": 5,
   "id": "bf7a38d0",
   "metadata": {},
   "outputs": [
    {
     "name": "stdout",
     "output_type": "stream",
     "text": [
      "(1, 2, 3, 4, 6, 7, 5)\n"
     ]
    }
   ],
   "source": [
    "a = (1,2,3,4)\n",
    "b = (6,7,5)\n",
    "c = a+b\n",
    "print(c)"
   ]
  },
  {
   "cell_type": "code",
   "execution_count": 7,
   "id": "4e49b274",
   "metadata": {},
   "outputs": [
    {
     "name": "stdout",
     "output_type": "stream",
     "text": [
      "('App',)\n",
      "<class 'tuple'>\n"
     ]
    }
   ],
   "source": [
    "#needs comma to be tuple\n",
    "a = (\"App\",)\n",
    "print(a)\n",
    "print(type(a))"
   ]
  },
  {
   "cell_type": "code",
   "execution_count": 11,
   "id": "bb77187c",
   "metadata": {},
   "outputs": [
    {
     "name": "stdout",
     "output_type": "stream",
     "text": [
      "Enter the n: 5\n",
      "Enter the value: 6\n",
      "Enter the value: 5\n",
      "Enter the value: 4\n",
      "Enter the value: 3\n",
      "Enter the value: 2\n",
      "(6, 5, 4, 3, 2)\n"
     ]
    }
   ],
   "source": [
    "t = tuple()\n",
    "n = int(input(\"Enter the n: \"))\n",
    "for i in range(n):\n",
    "    x = int(input(\"Enter the value: \"))\n",
    "    t = t+(x,)\n",
    "print(t)"
   ]
  },
  {
   "cell_type": "code",
   "execution_count": 21,
   "id": "6a2b1650",
   "metadata": {},
   "outputs": [
    {
     "name": "stdout",
     "output_type": "stream",
     "text": [
      "[1, 2, 3, 4]\n",
      "[2, 3, 4]\n"
     ]
    },
    {
     "data": {
      "text/plain": [
       "(2, 3, 4)"
      ]
     },
     "execution_count": 21,
     "metadata": {},
     "output_type": "execute_result"
    }
   ],
   "source": [
    "a = (1,2,3,4)\n",
    "b = list(a)\n",
    "print(b)\n",
    "del b[0]\n",
    "print(b)\n",
    "tuple(b)"
   ]
  },
  {
   "cell_type": "code",
   "execution_count": 32,
   "id": "5b80f359",
   "metadata": {},
   "outputs": [
    {
     "name": "stdout",
     "output_type": "stream",
     "text": [
      "(('Chandra ', 26, 'PKR'), ('Jyoti', 24, 'HK'))\n"
     ]
    }
   ],
   "source": [
    "a = [['Chandra ', 26, 'PKR'], ['Jyoti', 24, 'HK']]\n",
    "t = ()\n",
    "for i in a:\n",
    "    x =tuple(i)\n",
    "    t =t+(x,)\n",
    "print(t)"
   ]
  },
  {
   "cell_type": "code",
   "execution_count": 26,
   "id": "2b53fb8a",
   "metadata": {
    "scrolled": true
   },
   "outputs": [
    {
     "name": "stdout",
     "output_type": "stream",
     "text": [
      "Enter the n: 2\n",
      "Enter the name: Chandra \n",
      "Enter the age: 26\n",
      "Enter address: PKR\n",
      "Enter the name: Jyoti\n",
      "Enter the age: 24\n",
      "Enter address: HK\n",
      "(('Chandra ', 26, 'PKR'), ('Jyoti', 24, 'HK'))\n"
     ]
    }
   ],
   "source": [
    "t = tuple()\n",
    "n = int(input(\"Enter the n: \"))\n",
    "for i in range(n):\n",
    "    name = input(\"Enter the name: \")\n",
    "    age = int(input(\"Enter the age: \"))\n",
    "    add = input(\"Enter address: \")\n",
    "    t = t+((name, age, add),)\n",
    "print(t)"
   ]
  },
  {
   "cell_type": "code",
   "execution_count": 43,
   "id": "1597233a",
   "metadata": {},
   "outputs": [
    {
     "name": "stdout",
     "output_type": "stream",
     "text": [
      "Enter the r: 2\n",
      "Enter the c: 2\n",
      "Enter the x: 2\n",
      "Enter the x: 2\n",
      "Enter the x: 2\n",
      "Enter the x: 2\n",
      "((2, 2), (2, 2))\n"
     ]
    }
   ],
   "source": [
    "m = ()\n",
    "r = int(input(\"Enter the r: \"))\n",
    "c = int(input(\"Enter the c: \"))\n",
    "for i in range(r): \n",
    "    y = ()\n",
    "    for j in range(c): \n",
    "        x = int(input(\"Enter the x: \"))\n",
    "        y = y+(x,)\n",
    "    m = m+(y,)\n",
    "print(m)"
   ]
  },
  {
   "cell_type": "code",
   "execution_count": 1,
   "id": "2d275b7f",
   "metadata": {},
   "outputs": [
    {
     "name": "stdout",
     "output_type": "stream",
     "text": [
      "(1, 2, 3, 4, 5, 6)\n"
     ]
    }
   ],
   "source": [
    "a = (1,2,3)\n",
    "b = (4,5,6)\n",
    "c = a+b\n",
    "print(c)"
   ]
  },
  {
   "cell_type": "code",
   "execution_count": null,
   "id": "83c4c72e",
   "metadata": {},
   "outputs": [],
   "source": []
  }
 ],
 "metadata": {
  "kernelspec": {
   "display_name": "Python 3 (ipykernel)",
   "language": "python",
   "name": "python3"
  },
  "language_info": {
   "codemirror_mode": {
    "name": "ipython",
    "version": 3
   },
   "file_extension": ".py",
   "mimetype": "text/x-python",
   "name": "python",
   "nbconvert_exporter": "python",
   "pygments_lexer": "ipython3",
   "version": "3.9.12"
  }
 },
 "nbformat": 4,
 "nbformat_minor": 5
}
