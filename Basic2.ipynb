{
 "cells": [
  {
   "cell_type": "code",
   "execution_count": 2,
   "id": "fafb30a7",
   "metadata": {},
   "outputs": [
    {
     "name": "stdout",
     "output_type": "stream",
     "text": [
      "Enter value p = 1000\n",
      "Enter t = 2.5\n",
      "Enter r = 5.4\n",
      "The value of i  135.0\n"
     ]
    }
   ],
   "source": [
    "p = int(input(\"Enter value p = \"))\n",
    "t = float(input(\"Enter t = \"))\n",
    "r = float(input(\"Enter r = \"))\n",
    "i = p*t*r/100\n",
    "print(\"The value of i \", i)"
   ]
  },
  {
   "cell_type": "code",
   "execution_count": 7,
   "id": "31952fcd",
   "metadata": {},
   "outputs": [
    {
     "name": "stdout",
     "output_type": "stream",
     "text": [
      "Value R = 7\n",
      "The value 153.86\n"
     ]
    }
   ],
   "source": [
    "r = float(input(\"Value R = \"))\n",
    "a = 3.14*r**2\n",
    "print(\"The value\", a)\n"
   ]
  },
  {
   "cell_type": "code",
   "execution_count": 17,
   "id": "cf0c924d",
   "metadata": {},
   "outputs": [
    {
     "name": "stdout",
     "output_type": "stream",
     "text": [
      "Hello, my name is Chandra I am 27\n"
     ]
    }
   ],
   "source": [
    "name = \"Chandra\"\n",
    "age = 27\n",
    "info = \"Hello, my name is \"+name + \" I am \"+ str(age)\n",
    "print(info)"
   ]
  },
  {
   "cell_type": "code",
   "execution_count": 18,
   "id": "b1a452df",
   "metadata": {},
   "outputs": [
    {
     "data": {
      "text/plain": [
       "'10'"
      ]
     },
     "execution_count": 18,
     "metadata": {},
     "output_type": "execute_result"
    }
   ],
   "source": [
    "a = 10\n",
    "str(10)"
   ]
  },
  {
   "cell_type": "code",
   "execution_count": 19,
   "id": "157d6371",
   "metadata": {},
   "outputs": [
    {
     "data": {
      "text/plain": [
       "10.0"
      ]
     },
     "execution_count": 19,
     "metadata": {},
     "output_type": "execute_result"
    }
   ],
   "source": [
    "a = 10\n",
    "float(10)"
   ]
  },
  {
   "cell_type": "code",
   "execution_count": 28,
   "id": "dfb9baf4",
   "metadata": {},
   "outputs": [
    {
     "name": "stdout",
     "output_type": "stream",
     "text": [
      "Enter name = Chandra\n",
      "Enter age = 27\n",
      "Enter add = Pokhara\n",
      "Hello I'm Chandra I am from Pokhara I am 27\n"
     ]
    }
   ],
   "source": [
    "name = input(\"Enter name = \")\n",
    "age = int(input(\"Enter age = \"))\n",
    "add = input(\"Enter add = \")\n",
    "info = \"Hello I'm \"+name+ \" I am from \"+add+ \" I am \"+ str(age)\n",
    "print(info)"
   ]
  },
  {
   "cell_type": "code",
   "execution_count": null,
   "id": "7402bec5",
   "metadata": {},
   "outputs": [],
   "source": []
  }
 ],
 "metadata": {
  "kernelspec": {
   "display_name": "Python 3 (ipykernel)",
   "language": "python",
   "name": "python3"
  },
  "language_info": {
   "codemirror_mode": {
    "name": "ipython",
    "version": 3
   },
   "file_extension": ".py",
   "mimetype": "text/x-python",
   "name": "python",
   "nbconvert_exporter": "python",
   "pygments_lexer": "ipython3",
   "version": "3.9.12"
  }
 },
 "nbformat": 4,
 "nbformat_minor": 5
}
