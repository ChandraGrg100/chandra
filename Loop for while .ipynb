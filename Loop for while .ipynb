{
 "cells": [
  {
   "cell_type": "code",
   "execution_count": 1,
   "id": "d9cbbdc4",
   "metadata": {},
   "outputs": [],
   "source": [
    "#while loop\n",
    "#while <conditions>:\n",
    "#      <operations>"
   ]
  },
  {
   "cell_type": "code",
   "execution_count": 16,
   "id": "1a1272a5",
   "metadata": {
    "collapsed": true
   },
   "outputs": [
    {
     "name": "stdout",
     "output_type": "stream",
     "text": [
      "1 Hello World\n",
      "2 Hello World\n",
      "3 Hello World\n",
      "4 Hello World\n"
     ]
    }
   ],
   "source": [
    "a = 1 \n",
    "while a<5:\n",
    "    print(a, \"Hello World\")\n",
    "    a = a+1"
   ]
  },
  {
   "cell_type": "code",
   "execution_count": 26,
   "id": "b939b7d4",
   "metadata": {
    "collapsed": true
   },
   "outputs": [
    {
     "name": "stdout",
     "output_type": "stream",
     "text": [
      "Enter the value: 2\n",
      "2 * 1 = 2\n",
      "2 * 2 = 4\n",
      "2 * 3 = 6\n",
      "2 * 4 = 8\n",
      "2 * 5 = 10\n",
      "2 * 6 = 12\n",
      "2 * 7 = 14\n",
      "2 * 8 = 16\n",
      "2 * 9 = 18\n",
      "2 * 10 = 20\n"
     ]
    }
   ],
   "source": [
    "x = 1\n",
    "n = int(input(\"Enter the value: \"))\n",
    "while x<=10:\n",
    "    print(n,\"*\", x, \"=\", n*x)\n",
    "    x = x+1\n",
    "    "
   ]
  },
  {
   "cell_type": "code",
   "execution_count": 30,
   "id": "4fc17d75",
   "metadata": {
    "collapsed": true
   },
   "outputs": [
    {
     "name": "stdout",
     "output_type": "stream",
     "text": [
      "Enter the value: 5\n",
      "Enter x = 7\n",
      "Enter x = 345\n",
      "Enter x = 455\n",
      "Enter x = 455\n",
      "Enter x = 67\n",
      "1329\n"
     ]
    }
   ],
   "source": [
    "s = 0\n",
    "i = 0\n",
    "n = int(input(\"Enter the value: \"))\n",
    "while i<n:\n",
    "    x = int(input(\"Enter x = \"))\n",
    "    s = s+x\n",
    "    i = i + 1\n",
    "print(s)"
   ]
  },
  {
   "cell_type": "markdown",
   "id": "add7d9b5",
   "metadata": {},
   "source": [
    "s = str()\n",
    "n = int(input(\"Enter the value: \""
   ]
  },
  {
   "cell_type": "code",
   "execution_count": 38,
   "id": "3658412d",
   "metadata": {},
   "outputs": [
    {
     "name": "stdout",
     "output_type": "stream",
     "text": [
      "Enter the value: 2\n",
      "Enter name: han\n",
      "Enter number: 980\n",
      "Enter name: cha\n",
      "Enter number: 9888\n",
      "han 980\n",
      "cha 9888\n",
      "\n"
     ]
    }
   ],
   "source": [
    "s = str()\n",
    "i = 0\n",
    "n = int(input(\"Enter the value: \"))\n",
    "while i<n:\n",
    "    name = input(\"Enter name: \")\n",
    "    phone = input(\"Enter number: \")\n",
    "    data = name+\" \"+phone+\"\\n\"\n",
    "    s = s+data\n",
    "    i = i + 1\n",
    "print(s)"
   ]
  },
  {
   "cell_type": "code",
   "execution_count": 48,
   "id": "de3053e2",
   "metadata": {},
   "outputs": [
    {
     "name": "stdout",
     "output_type": "stream",
     "text": [
      "Enther the value: 5\n",
      "120\n"
     ]
    }
   ],
   "source": [
    "# factorial = 1*2*3*4*5\n",
    "i = 1\n",
    "fac = 1\n",
    "n = int(input(\"Enther the value: \"))\n",
    "while i<=n:\n",
    "    fac = fac*i\n",
    "    i += 1\n",
    "print(fac)"
   ]
  },
  {
   "cell_type": "code",
   "execution_count": 62,
   "id": "e9cb1e45",
   "metadata": {},
   "outputs": [
    {
     "name": "stdout",
     "output_type": "stream",
     "text": [
      "P\n",
      "y\n",
      "t\n",
      "h\n",
      "o\n",
      "n\n"
     ]
    }
   ],
   "source": [
    "i = 0\n",
    "a = \"Python\"\n",
    "l = len(a)\n",
    "while i<l:\n",
    "    print(a[i])\n",
    "    i += 1"
   ]
  },
  {
   "cell_type": "code",
   "execution_count": 63,
   "id": "0880b185",
   "metadata": {},
   "outputs": [
    {
     "name": "stdout",
     "output_type": "stream",
     "text": [
      "y\n"
     ]
    }
   ],
   "source": [
    "a = \"Python\"\n",
    "print(a[1])"
   ]
  },
  {
   "cell_type": "code",
   "execution_count": 68,
   "id": "42148b1a",
   "metadata": {},
   "outputs": [
    {
     "name": "stdout",
     "output_type": "stream",
     "text": [
      "Hello World I am Python"
     ]
    }
   ],
   "source": [
    "i = 0\n",
    "a = \"Hello World I am Python\"\n",
    "l = len(a)\n",
    "while i<l:\n",
    "    if a[i] != \"\":\n",
    "        print(a[i], end = \"\")\n",
    "    i += 1"
   ]
  },
  {
   "cell_type": "code",
   "execution_count": 77,
   "id": "bd4fec22",
   "metadata": {},
   "outputs": [
    {
     "name": "stdout",
     "output_type": "stream",
     "text": [
      "Hello"
     ]
    }
   ],
   "source": [
    "i = 0\n",
    "a = \"Hello World I am Python\"\n",
    "l = len(a)\n",
    "while i<l:\n",
    "    if a[i]==\" \":\n",
    "        break\n",
    "    else:\n",
    "        print(a[i], end = \"\")\n",
    "    i += 1"
   ]
  },
  {
   "cell_type": "code",
   "execution_count": 86,
   "id": "8f57721e",
   "metadata": {},
   "outputs": [
    {
     "name": "stdout",
     "output_type": "stream",
     "text": [
      "HelloWorldIamPython"
     ]
    }
   ],
   "source": [
    "i = 0\n",
    "a = \"Hello World I am Python\"\n",
    "l = len(a)\n",
    "while i<l:\n",
    "    if a[i]==\" \":\n",
    "        i += 1\n",
    "        continue\n",
    "    else:\n",
    "        print(a[i],end= \"\")\n",
    "    i += 1"
   ]
  },
  {
   "cell_type": "code",
   "execution_count": 2,
   "id": "558bf0a3",
   "metadata": {},
   "outputs": [
    {
     "ename": "NameError",
     "evalue": "name 'i' is not defined",
     "output_type": "error",
     "traceback": [
      "\u001b[0;31m---------------------------------------------------------------------------\u001b[0m",
      "\u001b[0;31mNameError\u001b[0m                                 Traceback (most recent call last)",
      "Input \u001b[0;32mIn [2]\u001b[0m, in \u001b[0;36m<cell line: 3>\u001b[0;34m()\u001b[0m\n\u001b[1;32m      1\u001b[0m \u001b[38;5;66;03m# pass \u001b[39;00m\n\u001b[1;32m      2\u001b[0m \u001b[38;5;66;03m#not to get error\u001b[39;00m\n\u001b[0;32m----> 3\u001b[0m \u001b[38;5;28;01mif\u001b[39;00m \u001b[43mi\u001b[49m \u001b[38;5;129;01min\u001b[39;00m \u001b[38;5;28mrange\u001b[39m(\u001b[38;5;241m5\u001b[39m):\n\u001b[1;32m      4\u001b[0m     \u001b[38;5;28;01mpass\u001b[39;00m\n",
      "\u001b[0;31mNameError\u001b[0m: name 'i' is not defined"
     ]
    }
   ],
   "source": [
    "# pass \n",
    "#not to get error\n",
    "if i in range(5):\n",
    "    pass"
   ]
  },
  {
   "cell_type": "code",
   "execution_count": null,
   "id": "7f05811d",
   "metadata": {},
   "outputs": [],
   "source": []
  }
 ],
 "metadata": {
  "kernelspec": {
   "display_name": "Python 3 (ipykernel)",
   "language": "python",
   "name": "python3"
  },
  "language_info": {
   "codemirror_mode": {
    "name": "ipython",
    "version": 3
   },
   "file_extension": ".py",
   "mimetype": "text/x-python",
   "name": "python",
   "nbconvert_exporter": "python",
   "pygments_lexer": "ipython3",
   "version": "3.9.12"
  }
 },
 "nbformat": 4,
 "nbformat_minor": 5
}
