{
 "cells": [
  {
   "cell_type": "code",
   "execution_count": 1,
   "id": "79b0c4d0",
   "metadata": {},
   "outputs": [],
   "source": [
    "# append insert extend"
   ]
  },
  {
   "cell_type": "code",
   "execution_count": 2,
   "id": "b89ea48d",
   "metadata": {},
   "outputs": [
    {
     "name": "stdout",
     "output_type": "stream",
     "text": [
      "['Apple', 'Ball', 'Cat']\n"
     ]
    }
   ],
   "source": [
    "a = []\n",
    "a.append(\"Apple\")\n",
    "a.append(\"Ball\")\n",
    "a.append(\"Cat\")\n",
    "print(a)"
   ]
  },
  {
   "cell_type": "code",
   "execution_count": 3,
   "id": "00d932e2",
   "metadata": {},
   "outputs": [
    {
     "name": "stdout",
     "output_type": "stream",
     "text": [
      "Enter the n 2\n",
      "Enter the x: CHasndra\n",
      "Enter the x: chandra\n",
      "['CHasndra', 'chandra']\n"
     ]
    }
   ],
   "source": [
    "a = []\n",
    "n = int(input(\"Enter the n \"))\n",
    "for i in range(n):\n",
    "    x = input(\"Enter the x: \")\n",
    "    a.append(x)\n",
    "print(a)"
   ]
  },
  {
   "cell_type": "code",
   "execution_count": 7,
   "id": "2d2d6700",
   "metadata": {},
   "outputs": [
    {
     "name": "stdout",
     "output_type": "stream",
     "text": [
      "['Apple', 'APe', 'Ball', 'Cat']\n"
     ]
    }
   ],
   "source": [
    "#insert\n",
    "a = ['Apple', 'Ball', 'Cat']\n",
    "a.insert(1, \"APe\")\n",
    "print(a)"
   ]
  },
  {
   "cell_type": "code",
   "execution_count": 9,
   "id": "def1b80a",
   "metadata": {},
   "outputs": [
    {
     "name": "stdout",
     "output_type": "stream",
     "text": [
      "['Apple', 'Ball', 'Cat', 'DD', 'CC']\n"
     ]
    }
   ],
   "source": [
    "#extend\n",
    "a = ['Apple', 'Ball', 'Cat']\n",
    "b = ['DD', \"CC\"]\n",
    "a.extend(b)\n",
    "print(a)"
   ]
  },
  {
   "cell_type": "code",
   "execution_count": 18,
   "id": "f0a3fe33",
   "metadata": {},
   "outputs": [
    {
     "data": {
      "text/plain": [
       "['Apple', 'Ball', 'Cat', 'App', 'CC']"
      ]
     },
     "execution_count": 18,
     "metadata": {},
     "output_type": "execute_result"
    }
   ],
   "source": [
    "#Update\n",
    "a = ['Apple', 'Ball', 'Cat', 'DD', 'CC']\n",
    "a[3] = 'App'\n",
    "a"
   ]
  },
  {
   "cell_type": "code",
   "execution_count": 19,
   "id": "c71c2b75",
   "metadata": {},
   "outputs": [],
   "source": [
    "#Delete (del,remove,pop)"
   ]
  },
  {
   "cell_type": "code",
   "execution_count": 28,
   "id": "3639f7ea",
   "metadata": {},
   "outputs": [
    {
     "name": "stdout",
     "output_type": "stream",
     "text": [
      "['Ball', 'Cat', 'App', 'CC']\n"
     ]
    }
   ],
   "source": [
    "a = ['Apple', 'Ball', 'Cat', 'App', 'CC']\n",
    "del a[0]\n",
    "print(a)"
   ]
  },
  {
   "cell_type": "code",
   "execution_count": 30,
   "id": "1af892ed",
   "metadata": {},
   "outputs": [
    {
     "name": "stdout",
     "output_type": "stream",
     "text": [
      "['Cat', 'App', 'CC']\n"
     ]
    }
   ],
   "source": [
    "# Delete multiple times\n",
    "a = ['Apple', 'Ball', 'Cat', 'App', 'CC']\n",
    "del a[0:2]\n",
    "print(a)"
   ]
  },
  {
   "cell_type": "code",
   "execution_count": 31,
   "id": "081c0e7f",
   "metadata": {},
   "outputs": [
    {
     "name": "stdout",
     "output_type": "stream",
     "text": [
      "['Ball', 'Cat', 'App', 'CC']\n"
     ]
    }
   ],
   "source": [
    "# Cant remove mutiple value by remove\n",
    "a = ['Apple', 'Ball', 'Cat', 'App', 'CC']\n",
    "a.remove(\"Apple\")\n",
    "print(a)"
   ]
  },
  {
   "cell_type": "code",
   "execution_count": 35,
   "id": "ce92eced",
   "metadata": {},
   "outputs": [
    {
     "name": "stdout",
     "output_type": "stream",
     "text": [
      "['Apple', 'Ball', 'Cat', 'App']\n",
      "['Apple', 'Ball', 'Cat']\n"
     ]
    }
   ],
   "source": [
    "a = ['Apple', 'Ball', 'Cat', 'App', 'App']\n",
    "b = a.count(\"App\")\n",
    "for i in range(b):\n",
    "    a.remove(\"App\")\n",
    "    print(a)"
   ]
  },
  {
   "cell_type": "code",
   "execution_count": 53,
   "id": "2c0c709a",
   "metadata": {},
   "outputs": [
    {
     "name": "stdout",
     "output_type": "stream",
     "text": [
      "0\n",
      "4\n"
     ]
    }
   ],
   "source": [
    "a = ['App', 'Ball', 'Cat', 'Apple', 'App']\n",
    "for i in range(len(a)):\n",
    "    if a[i] == \"App\":\n",
    "       print(i)"
   ]
  },
  {
   "cell_type": "code",
   "execution_count": 49,
   "id": "f8da6453",
   "metadata": {},
   "outputs": [
    {
     "data": {
      "text/plain": [
       "['App', 'Ball', 'Cat', 'Apple']"
      ]
     },
     "execution_count": 49,
     "metadata": {},
     "output_type": "execute_result"
    }
   ],
   "source": [
    "#pop\n",
    "a = ['App', 'Ball', 'Cat', 'Apple', 'App']\n",
    "a.pop()\n",
    "a"
   ]
  },
  {
   "cell_type": "code",
   "execution_count": 51,
   "id": "6596a5d5",
   "metadata": {},
   "outputs": [
    {
     "name": "stdout",
     "output_type": "stream",
     "text": [
      "Apple\n"
     ]
    }
   ],
   "source": [
    "a = ['App', 'Ball', 'Cat', 'Apple', 'App']\n",
    "b = a.pop(3)\n",
    "print(b)"
   ]
  },
  {
   "cell_type": "code",
   "execution_count": 55,
   "id": "21fb3019",
   "metadata": {},
   "outputs": [
    {
     "data": {
      "text/plain": [
       "[' Apple 20 233 244', 'Pop 30 345 345']"
      ]
     },
     "execution_count": 55,
     "metadata": {},
     "output_type": "execute_result"
    }
   ],
   "source": [
    "a = \" Apple 20 233 244\\nPop 30 345 345\"\n",
    "x = a.split(\"\\n\")\n",
    "x"
   ]
  },
  {
   "cell_type": "code",
   "execution_count": 59,
   "id": "565d09cc",
   "metadata": {},
   "outputs": [
    {
     "name": "stdout",
     "output_type": "stream",
     "text": [
      "[[1, 2, 3], [3, 4, 5], [5, 6, 7]]\n",
      "<class 'list'>\n",
      "3\n"
     ]
    }
   ],
   "source": [
    "#list inside list\n",
    "a = [[1,2,3],\n",
    "    [3,4,5],\n",
    "    [5,6,7]]\n",
    "print(a)\n",
    "print(type(a))\n",
    "print(len(a))"
   ]
  },
  {
   "cell_type": "code",
   "execution_count": 60,
   "id": "007c3982",
   "metadata": {},
   "outputs": [],
   "source": [
    "a = [[\"Sam\", 22, \"Ktm\"],\n",
    "    [\"Pop\", 23, \"Pkr\"],\n",
    "    [\"Lop\", 25, \"Bkt\"]]\n"
   ]
  },
  {
   "cell_type": "code",
   "execution_count": 64,
   "id": "3a91ead4",
   "metadata": {},
   "outputs": [
    {
     "data": {
      "text/plain": [
       "[' Apple 20 233 244', 'Pop 30 345 345']"
      ]
     },
     "execution_count": 64,
     "metadata": {},
     "output_type": "execute_result"
    }
   ],
   "source": [
    "data = []\n",
    "a = \" Apple 20 233 244\\nPop 30 345 345\"\n",
    "a.split(\"\\n\")"
   ]
  },
  {
   "cell_type": "code",
   "execution_count": 63,
   "id": "4d0053e9",
   "metadata": {},
   "outputs": [
    {
     "data": {
      "text/plain": [
       "[['Apple', '20', '233', '244'], ['Pop', '30', '345', '345']]"
      ]
     },
     "execution_count": 63,
     "metadata": {},
     "output_type": "execute_result"
    }
   ],
   "source": [
    "data = []\n",
    "a = \" Apple 20 233 244\\nPop 30 345 345\"\n",
    "x = a.split(\"\\n\")\n",
    "for i in x:\n",
    "    x = i.split()\n",
    "    data.append(x)\n",
    "data"
   ]
  },
  {
   "cell_type": "code",
   "execution_count": null,
   "id": "ae28e471",
   "metadata": {},
   "outputs": [],
   "source": [
    "#Wap to create a billing system list inside the list"
   ]
  },
  {
   "cell_type": "code",
   "execution_count": 3,
   "id": "d5ac023c",
   "metadata": {},
   "outputs": [
    {
     "name": "stdout",
     "output_type": "stream",
     "text": [
      "Enter the value: 2\n",
      "Enter name: CHandra\n",
      "Enter age: 27\n",
      "Enter address: Pkr\n",
      "Enter name: Jyoti\n",
      "Enter age: 25\n",
      "Enter address: PKr\n",
      "[['CHandra', '27', 'Pkr'], ['Jyoti', '25', 'PKr']]\n"
     ]
    }
   ],
   "source": [
    "data = []\n",
    "item = int(input(\"Enter the value: \"))\n",
    "for i in range(item):\n",
    "    name = input(\"Enter name: \")\n",
    "    age = int(input(\"Enter age: \"))\n",
    "    add = input(\"Enter address: \")\n",
    "    total = f\"{name} {age} {add}\"\n",
    "    x = total.split()\n",
    "    data.append(x)\n",
    "print(data)"
   ]
  },
  {
   "cell_type": "code",
   "execution_count": 10,
   "id": "974780bc",
   "metadata": {},
   "outputs": [
    {
     "name": "stdout",
     "output_type": "stream",
     "text": [
      "Enter number of n:2\n",
      "Enter name: Pop\n",
      "Enter quantity: 23\n",
      "Enter price: 2\n",
      "Enter name: App\n",
      "Enter quantity: 24\n",
      "Enter price: 55\n",
      "[['Pop', '23', '2', '46'], ['App', '24', '55', '1320']]\n"
     ]
    }
   ],
   "source": [
    "data=[]\n",
    "n=int(input(\"Enter number of n:\"))\n",
    "for i in range(n):\n",
    "    a =input(\"Enter name: \")\n",
    "    b =int(input(\"Enter quantity: \"))\n",
    "    p =int(input(\"Enter price: \"))\n",
    "    s =b*p\n",
    "    d = f\"{a} {b} {p} {s}\"\n",
    "    t = d.split()\n",
    "    data.append(t)\n",
    "        \n",
    "print(data)"
   ]
  },
  {
   "cell_type": "code",
   "execution_count": 13,
   "id": "4b0551a2",
   "metadata": {},
   "outputs": [
    {
     "name": "stdout",
     "output_type": "stream",
     "text": [
      "Enter number of n:2\n",
      "Enter name: ee\n",
      "Enter quantity: 2\n",
      "Enter price: 3\n",
      "[['ee', 2, 3, 6]]\n",
      "Enter name: 1\n",
      "Enter quantity: 2\n",
      "Enter price: 3\n",
      "[['ee', 2, 3, 6], ['1', 2, 3, 6]]\n"
     ]
    }
   ],
   "source": [
    "data=[]\n",
    "n=int(input(\"Enter number of n:\"))\n",
    "for i in range(n):\n",
    "    name =input(\"Enter name: \")\n",
    "    quantity =int(input(\"Enter quantity: \"))\n",
    "    price =int(input(\"Enter price: \"))\n",
    "    total = quantity * price\n",
    "    add = [name, quantity, price, total]\n",
    "    data.append(add)\n",
    "print(data)"
   ]
  },
  {
   "cell_type": "code",
   "execution_count": 43,
   "id": "d7d49f28",
   "metadata": {},
   "outputs": [
    {
     "name": "stdout",
     "output_type": "stream",
     "text": [
      "Enter name: ram\n"
     ]
    }
   ],
   "source": [
    "a = [[\"Ram\", 23, \"Ktm\"],\n",
    "     [\"Sam\", 24, \"Pkr\"]]\n",
    "name = input(\"Enter name: \")\n",
    "for i in a:\n",
    "         if name in i:\n",
    "            print(i)"
   ]
  },
  {
   "cell_type": "code",
   "execution_count": 34,
   "id": "b725ad37",
   "metadata": {},
   "outputs": [
    {
     "data": {
      "text/plain": [
       "2"
      ]
     },
     "execution_count": 34,
     "metadata": {},
     "output_type": "execute_result"
    }
   ],
   "source": [
    "a = [[1,2,3],\n",
    "    [4,5,6],\n",
    "    [7,8,9]]\n",
    "a[0][1]"
   ]
  },
  {
   "cell_type": "code",
   "execution_count": 46,
   "id": "02651e3f",
   "metadata": {},
   "outputs": [
    {
     "data": {
      "text/plain": [
       "[[['Nina', 22, 'Dharan'], 23, 'Ktm'], ['Sam', 24, 'Pkr'], ['Sita', 34, 'Ktm']]"
      ]
     },
     "execution_count": 46,
     "metadata": {},
     "output_type": "execute_result"
    }
   ],
   "source": [
    "a = [[\"Ram\", 23, \"Ktm\"],\n",
    "     [\"Sam\", 24, \"Pkr\"],\n",
    "     [\"Sita\", 34, \"Ktm\"]]\n",
    "a[0] = [\"Nina\", 22, \"Dharan\"]\n",
    "a"
   ]
  },
  {
   "cell_type": "code",
   "execution_count": 54,
   "id": "63703f2d",
   "metadata": {},
   "outputs": [
    {
     "name": "stdout",
     "output_type": "stream",
     "text": [
      "[['hairy', 23, 'Ktm'], ['Sam', 24, 'Pkr'], ['Sita', 34, 'Ktm']]\n"
     ]
    }
   ],
   "source": [
    "a = [[\"Ram\", 23, \"Ktm\"],\n",
    "     [\"Sam\", 24, \"Pkr\"],\n",
    "     [\"Sita\", 34, \"Ktm\"]]\n",
    "a[0][0] = \"hairy\"\n",
    "print(a)"
   ]
  },
  {
   "cell_type": "code",
   "execution_count": 59,
   "id": "2d52ac4b",
   "metadata": {},
   "outputs": [
    {
     "name": "stdout",
     "output_type": "stream",
     "text": [
      "[['Ram', 'Ktm'], ['Sam', 24, 'Pkr'], ['Sita', 34, 'Ktm']]\n"
     ]
    }
   ],
   "source": [
    "a = [[\"Ram\", 23, \"Ktm\"],\n",
    "     [\"Sam\", 24, \"Pkr\"],\n",
    "     [\"Sita\", 34, \"Ktm\"]]\n",
    "del a[0][1]\n",
    "print(a)\n"
   ]
  },
  {
   "cell_type": "code",
   "execution_count": 65,
   "id": "be5341ac",
   "metadata": {},
   "outputs": [
    {
     "name": "stdout",
     "output_type": "stream",
     "text": [
      "Enther the name: Ram\n",
      "[['Sam', 24, 'Pkr'], ['Sita', 34, 'Ktm']]\n"
     ]
    }
   ],
   "source": [
    "a = [[\"Ram\", 23, \"Ktm\"],\n",
    "     [\"Sam\", 24, \"Pkr\"],\n",
    "     [\"Sita\", 34, \"Ktm\"]]\n",
    "name = input(\"Enther the name: \")\n",
    "for i in a:\n",
    "    if name in i: \n",
    "        a.remove(i)\n",
    "print(a)"
   ]
  },
  {
   "cell_type": "code",
   "execution_count": 79,
   "id": "bdeef219",
   "metadata": {},
   "outputs": [
    {
     "name": "stdout",
     "output_type": "stream",
     "text": [
      "Enter row: 2\n",
      "Enter column: 2\n",
      "Enter x: 2\n",
      "Enter x: 2\n",
      "Enter x: 2\n",
      "Enter x: 2\n",
      "[[2, 2], [2, 2]]\n"
     ]
    }
   ],
   "source": [
    "## WAP to create matrix\n",
    "m = []\n",
    "r = int(input(\"Enter row: \"))\n",
    "c = int(input(\"Enter column: \"))\n",
    "for i in range(r):\n",
    "    y = []\n",
    "    for j in range(c):\n",
    "         x = int(input(\"Enter x: \"))\n",
    "         y.append(x)\n",
    "    m.append(y)\n",
    "print(m)"
   ]
  },
  {
   "cell_type": "markdown",
   "id": "96b1970d",
   "metadata": {},
   "source": []
  }
 ],
 "metadata": {
  "kernelspec": {
   "display_name": "Python 3 (ipykernel)",
   "language": "python",
   "name": "python3"
  },
  "language_info": {
   "codemirror_mode": {
    "name": "ipython",
    "version": 3
   },
   "file_extension": ".py",
   "mimetype": "text/x-python",
   "name": "python",
   "nbconvert_exporter": "python",
   "pygments_lexer": "ipython3",
   "version": "3.9.12"
  }
 },
 "nbformat": 4,
 "nbformat_minor": 5
}
