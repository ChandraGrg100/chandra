{
 "cells": [
  {
   "cell_type": "code",
   "execution_count": 2,
   "id": "6289f495",
   "metadata": {},
   "outputs": [
    {
     "name": "stdout",
     "output_type": "stream",
     "text": [
      "10 12.3 Hello WOrld True\n"
     ]
    }
   ],
   "source": [
    "a = 10\n",
    "b = 12.3\n",
    "c = \"Hello WOrld\"\n",
    "d = True\n",
    "\n",
    "print(a, b,c, d)"
   ]
  },
  {
   "cell_type": "code",
   "execution_count": 3,
   "id": "8880f41d",
   "metadata": {},
   "outputs": [
    {
     "name": "stdout",
     "output_type": "stream",
     "text": [
      "<class 'int'>\n"
     ]
    }
   ],
   "source": [
    "print(type(a))"
   ]
  },
  {
   "cell_type": "code",
   "execution_count": 7,
   "id": "ab7c52b9",
   "metadata": {},
   "outputs": [
    {
     "name": "stdout",
     "output_type": "stream",
     "text": [
      "Hello World\n"
     ]
    }
   ],
   "source": [
    "a = \"Hello \"\n",
    "b = \"World\"\n",
    "c = a+b\n",
    "print(c)"
   ]
  },
  {
   "cell_type": "code",
   "execution_count": 9,
   "id": "44b1ecf2",
   "metadata": {},
   "outputs": [
    {
     "name": "stdout",
     "output_type": "stream",
     "text": [
      "1027\n"
     ]
    }
   ],
   "source": [
    "a = \"10\"\n",
    "b = \"27\"\n",
    "c = a+b\n",
    "print(c)"
   ]
  },
  {
   "cell_type": "code",
   "execution_count": 15,
   "id": "aa43dd38",
   "metadata": {},
   "outputs": [
    {
     "name": "stdout",
     "output_type": "stream",
     "text": [
      "Hello World\n",
      "Hello World\n",
      "\n"
     ]
    }
   ],
   "source": [
    "a = \"Hello World\\n\"\n",
    "print(a*2)"
   ]
  },
  {
   "cell_type": "code",
   "execution_count": 19,
   "id": "8e42c5cf",
   "metadata": {},
   "outputs": [
    {
     "name": "stdout",
     "output_type": "stream",
     "text": [
      "1\n"
     ]
    }
   ],
   "source": [
    "a = True\n",
    "b = False\n",
    "c = a+b\n",
    "print(c)"
   ]
  },
  {
   "cell_type": "code",
   "execution_count": null,
   "id": "b6f4e159",
   "metadata": {},
   "outputs": [],
   "source": [
    "a = int(input(\"Enter a = \"))\n",
    "b = int(input(\"Enter b = \"))\n",
    "c = a+b\n",
    "print(c)"
   ]
  },
  {
   "cell_type": "code",
   "execution_count": 4,
   "id": "245383d7",
   "metadata": {},
   "outputs": [
    {
     "name": "stdout",
     "output_type": "stream",
     "text": [
      "Enter value p = 34\n",
      "Enter t = 34\n",
      "Enter r = 54\n",
      "The value of i  624.24\n"
     ]
    }
   ],
   "source": [
    "p = int(input(\"Enter value p = \"))\n",
    "t = float(input(\"Enter t = \"))\n",
    "r = float(input(\"Enter r = \"))\n",
    "i = p*t*r/100\n",
    "print(\"The value of i \", i)"
   ]
  },
  {
   "cell_type": "code",
   "execution_count": null,
   "id": "e648ed3b",
   "metadata": {},
   "outputs": [],
   "source": []
  }
 ],
 "metadata": {
  "kernelspec": {
   "display_name": "Python 3 (ipykernel)",
   "language": "python",
   "name": "python3"
  },
  "language_info": {
   "codemirror_mode": {
    "name": "ipython",
    "version": 3
   },
   "file_extension": ".py",
   "mimetype": "text/x-python",
   "name": "python",
   "nbconvert_exporter": "python",
   "pygments_lexer": "ipython3",
   "version": "3.9.12"
  }
 },
 "nbformat": 4,
 "nbformat_minor": 5
}
