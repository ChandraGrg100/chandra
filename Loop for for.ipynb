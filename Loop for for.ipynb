{
 "cells": [
  {
   "cell_type": "code",
   "execution_count": 1,
   "id": "2756988d",
   "metadata": {},
   "outputs": [],
   "source": [
    "# loop in python\n",
    "# while\n",
    "# for\n"
   ]
  },
  {
   "cell_type": "code",
   "execution_count": 2,
   "id": "a53a87d5",
   "metadata": {},
   "outputs": [],
   "source": [
    "# for \n",
    "# range(5) = 0,1,2,3,4 for(1 = 0; i<5; i++)\n",
    "# range(1,5) = 1,2,3,4 for(i = 1: i<5; i++)\n",
    "# range(1,5,2) = 1,3 for(i = 1: i<5; i+2)"
   ]
  },
  {
   "cell_type": "code",
   "execution_count": 5,
   "id": "7c1710e4",
   "metadata": {},
   "outputs": [
    {
     "name": "stdout",
     "output_type": "stream",
     "text": [
      "0 Hello World\n",
      "1 Hello World\n",
      "2 Hello World\n",
      "3 Hello World\n",
      "4 Hello World\n"
     ]
    }
   ],
   "source": [
    "for i in range(5):\n",
    "    print(i, \"Hello World\")"
   ]
  },
  {
   "cell_type": "code",
   "execution_count": 13,
   "id": "77fd4f0c",
   "metadata": {},
   "outputs": [
    {
     "name": "stdout",
     "output_type": "stream",
     "text": [
      "1 Hello World\n",
      "2 Hello World\n",
      "3 Hello World\n",
      "4 Hello World\n"
     ]
    }
   ],
   "source": [
    "for i in range(1, 5):\n",
    "    print(i, \"Hello World\")"
   ]
  },
  {
   "cell_type": "code",
   "execution_count": 18,
   "id": "0b855d2b",
   "metadata": {},
   "outputs": [
    {
     "name": "stdout",
     "output_type": "stream",
     "text": [
      "1 Hello World\n",
      "4 Hello World\n"
     ]
    }
   ],
   "source": [
    "for i in range(1, 5, 3):\n",
    "    print(i, \"Hello World\")"
   ]
  },
  {
   "cell_type": "code",
   "execution_count": 26,
   "id": "9c84635c",
   "metadata": {},
   "outputs": [
    {
     "name": "stdout",
     "output_type": "stream",
     "text": [
      "Enter the value n = 5\n",
      "5\n",
      "10\n",
      "15\n",
      "20\n",
      "25\n",
      "30\n",
      "35\n",
      "40\n",
      "45\n",
      "50\n"
     ]
    }
   ],
   "source": [
    "n = int(input(\"Enter the value n = \"))\n",
    "for i in range(1,11):\n",
    "    print(n*i)"
   ]
  },
  {
   "cell_type": "code",
   "execution_count": 31,
   "id": "b322b9d8",
   "metadata": {},
   "outputs": [
    {
     "name": "stdout",
     "output_type": "stream",
     "text": [
      "Enter the value n = 5\n",
      "5 * 1 = 5\n",
      "5 * 2 = 10\n",
      "5 * 3 = 15\n",
      "5 * 4 = 20\n",
      "5 * 5 = 25\n",
      "5 * 6 = 30\n",
      "5 * 7 = 35\n",
      "5 * 8 = 40\n",
      "5 * 9 = 45\n",
      "5 * 10 = 50\n"
     ]
    }
   ],
   "source": [
    "n = int(input(\"Enter the value n = \"))\n",
    "for i in range(1,11):\n",
    "    print(n,\"*\",i, \"=\", n*i)"
   ]
  },
  {
   "cell_type": "code",
   "execution_count": 38,
   "id": "a9373dac",
   "metadata": {},
   "outputs": [
    {
     "name": "stdout",
     "output_type": "stream",
     "text": [
      "Enter the value n = 6\n",
      "Enter x = 34\n",
      "34\n",
      "Enter x = 34\n",
      "68\n",
      "Enter x = 34\n",
      "102\n",
      "Enter x = 3\n",
      "105\n",
      "Enter x = 434\n",
      "539\n",
      "Enter x = 33\n",
      "572\n"
     ]
    }
   ],
   "source": [
    "s = 0\n",
    "n = int(input(\"Enter the value n = \"))\n",
    "for i in range(n):\n",
    "    x = int(input(\"Enter x = \"))\n",
    "    s = s+x\n",
    "    print(s)"
   ]
  },
  {
   "cell_type": "code",
   "execution_count": 46,
   "id": "50d4c58b",
   "metadata": {},
   "outputs": [
    {
     "name": "stdout",
     "output_type": "stream",
     "text": [
      "Enter value: 2\n",
      "Enter name = Chandra \n",
      "Enter name = Pratap \n",
      "Chandra \n",
      "Pratap \n",
      "\n"
     ]
    }
   ],
   "source": [
    "s = str()\n",
    "n = int(input(\"Enter value: \"))\n",
    "for i in range(n):\n",
    "    name = input(\"Enter name = \")\n",
    "    s = s+name+\"\\n\"\n",
    "    \n",
    "print(s)\n"
   ]
  },
  {
   "cell_type": "code",
   "execution_count": 59,
   "id": "5ec53e96",
   "metadata": {},
   "outputs": [
    {
     "name": "stdout",
     "output_type": "stream",
     "text": [
      "Enter value: 2\n",
      "Enter name = Chandra\n",
      "Enter phone = 980\n",
      "Enter name = Chandra\n",
      "Enter phone = 980\n",
      "Chandra 980\n",
      "Chandra 980\n",
      "\n"
     ]
    }
   ],
   "source": [
    "s = str()\n",
    "n = int(input(\"Enter value: \"))\n",
    "for i in range(n):\n",
    "    name = input(\"Enter name = \")\n",
    "    phone = input(\"Enter phone = \")\n",
    "    s = s+name+ \" \" + phone + \"\\n\"\n",
    "    \n",
    "print(s)"
   ]
  },
  {
   "cell_type": "code",
   "execution_count": 62,
   "id": "526888a7",
   "metadata": {},
   "outputs": [
    {
     "name": "stdout",
     "output_type": "stream",
     "text": [
      "Enter the n = 5\n",
      "1\n",
      "2\n",
      "6\n",
      "24\n",
      "120\n"
     ]
    }
   ],
   "source": [
    "#factorial \n",
    "f = 1\n",
    "n = int(input(\"Enter the n = \"))\n",
    "for i in range (1, n+1):\n",
    "    f = f*i\n",
    "    print(f)"
   ]
  },
  {
   "cell_type": "code",
   "execution_count": 63,
   "id": "bf43ddd6",
   "metadata": {},
   "outputs": [],
   "source": [
    "# Write a program to create a billing system \n",
    "# Product price quatity \n",
    "#total = price*quality\n",
    "# string format "
   ]
  },
  {
   "cell_type": "code",
   "execution_count": 1,
   "id": "1ddb6c82",
   "metadata": {},
   "outputs": [
    {
     "name": "stdout",
     "output_type": "stream",
     "text": [
      "Enter value n: 2\n",
      "Enter the Product name = app\n",
      "Price of the product = 23\n",
      "Quantity of the product = 234\n",
      "Enter the Product name = pll\n",
      "Price of the product = 234\n",
      "Quantity of the product = 23\n",
      "app 23 234 5382\n",
      "pll 234 23 5382\n",
      "\n"
     ]
    }
   ],
   "source": [
    "data = str()\n",
    "n = int(input(\"Enter value n: \"))\n",
    "\n",
    "for i in range(n):\n",
    "    name = input(\"Enter the Product name = \")\n",
    "    price = int(input(\"Price of the product = \"))\n",
    "    quantity = int(input(\"Quantity of the product = \"))\n",
    "    total = price*quantity\n",
    "    bill = name+\" \"+str(price)+\" \"+str(quantity)+\" \"+str(total) + \"\\n\"\n",
    "    data = data+bill\n",
    "print(data)"
   ]
  },
  {
   "cell_type": "code",
   "execution_count": 77,
   "id": "31f74e9a",
   "metadata": {},
   "outputs": [
    {
     "name": "stdout",
     "output_type": "stream",
     "text": [
      "P Hi\n",
      "y Hi\n",
      "t Hi\n",
      "h Hi\n",
      "o Hi\n",
      "n Hi\n"
     ]
    }
   ],
   "source": [
    "a = \"Python\"\n",
    "for i in a:\n",
    "    print(i, \"Hi\")"
   ]
  },
  {
   "cell_type": "code",
   "execution_count": 79,
   "id": "6515cb0b",
   "metadata": {},
   "outputs": [
    {
     "name": "stdout",
     "output_type": "stream",
     "text": [
      "H\n",
      "i\n",
      " \n",
      "P\n",
      "l\n",
      "a\n",
      "n\n",
      "e\n",
      "t\n"
     ]
    }
   ],
   "source": [
    "a = \"Hi Planet\"\n",
    "for j in a:\n",
    "    print(j)"
   ]
  },
  {
   "cell_type": "code",
   "execution_count": 92,
   "id": "bb921379",
   "metadata": {},
   "outputs": [
    {
     "name": "stdout",
     "output_type": "stream",
     "text": [
      "HiPlanet"
     ]
    }
   ],
   "source": [
    "a = \"Hi Planet\"\n",
    "for j in a:\n",
    "    if j != \" \":\n",
    "        print(j,end = \"\")"
   ]
  },
  {
   "cell_type": "code",
   "execution_count": 117,
   "id": "6433bb48",
   "metadata": {},
   "outputs": [
    {
     "name": "stdout",
     "output_type": "stream",
     "text": [
      "HiPlane"
     ]
    }
   ],
   "source": [
    "a = \"Hi Planet.\"\n",
    "for j in a:\n",
    "    if j != \" \" and j != \".\" and j != \"t\":\n",
    "        print(j,end = \"\")"
   ]
  },
  {
   "cell_type": "code",
   "execution_count": 99,
   "id": "25fb4483",
   "metadata": {},
   "outputs": [],
   "source": [
    "# Control statement \n",
    "# break\n",
    "# continue\n",
    "# break"
   ]
  },
  {
   "cell_type": "code",
   "execution_count": 105,
   "id": "fb288989",
   "metadata": {},
   "outputs": [
    {
     "name": "stdout",
     "output_type": "stream",
     "text": [
      "0\n",
      "1\n",
      "2\n",
      "3\n",
      "4\n",
      "Hi\n"
     ]
    }
   ],
   "source": [
    "#break \n",
    "for i in range(10):\n",
    "    if i ==5:\n",
    "         break\n",
    "    print(i)\n",
    "print(\"Hi\")"
   ]
  },
  {
   "cell_type": "code",
   "execution_count": 115,
   "id": "9c5b62cf",
   "metadata": {},
   "outputs": [
    {
     "name": "stdout",
     "output_type": "stream",
     "text": [
      "Hi"
     ]
    }
   ],
   "source": [
    "a = \"Hi Planet\"\n",
    "for j in a:\n",
    "    if j == \" \":\n",
    "        break\n",
    "    else: \n",
    "        print(j,end = \"\")"
   ]
  },
  {
   "cell_type": "code",
   "execution_count": 124,
   "id": "812dcf7d",
   "metadata": {},
   "outputs": [
    {
     "name": "stdout",
     "output_type": "stream",
     "text": [
      "0\n",
      "1\n",
      "3\n",
      "4\n"
     ]
    }
   ],
   "source": [
    "#continue means skip \n",
    "for i in range(5):\n",
    "    if i == 2:\n",
    "        continue\n",
    "    print(i)"
   ]
  },
  {
   "cell_type": "code",
   "execution_count": 125,
   "id": "a5ca51f8",
   "metadata": {},
   "outputs": [
    {
     "name": "stdout",
     "output_type": "stream",
     "text": [
      "HelloWorld"
     ]
    }
   ],
   "source": [
    "a = \"Hello World\"\n",
    "for i in a:\n",
    "    if i == \" \":\n",
    "        continue\n",
    "    else:\n",
    "        print(i, end = \"\")"
   ]
  },
  {
   "cell_type": "code",
   "execution_count": 128,
   "id": "e354847e",
   "metadata": {},
   "outputs": [
    {
     "name": "stdout",
     "output_type": "stream",
     "text": [
      "2\n",
      "4\n",
      "6\n",
      "8\n",
      "10\n",
      "12\n",
      "14\n",
      "16\n",
      "18\n",
      "20\n"
     ]
    }
   ],
   "source": [
    "for i in range(1, 21):\n",
    "    if i%2 !=0:\n",
    "        continue\n",
    "    print(i)"
   ]
  },
  {
   "cell_type": "code",
   "execution_count": null,
   "id": "dd5cb2f6",
   "metadata": {},
   "outputs": [],
   "source": []
  }
 ],
 "metadata": {
  "kernelspec": {
   "display_name": "Python 3 (ipykernel)",
   "language": "python",
   "name": "python3"
  },
  "language_info": {
   "codemirror_mode": {
    "name": "ipython",
    "version": 3
   },
   "file_extension": ".py",
   "mimetype": "text/x-python",
   "name": "python",
   "nbconvert_exporter": "python",
   "pygments_lexer": "ipython3",
   "version": "3.9.12"
  }
 },
 "nbformat": 4,
 "nbformat_minor": 5
}
