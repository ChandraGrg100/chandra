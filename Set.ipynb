{
 "cells": [
  {
   "cell_type": "markdown",
   "id": "9dd7e941",
   "metadata": {},
   "source": [
    "# Set\n",
    "# No indexing \n",
    "# No dupicate \n",
    "# Unordered \n",
    "# Mutable "
   ]
  },
  {
   "cell_type": "code",
   "execution_count": 3,
   "id": "4d0013a7",
   "metadata": {},
   "outputs": [
    {
     "name": "stdout",
     "output_type": "stream",
     "text": [
      "<class 'set'>\n"
     ]
    }
   ],
   "source": [
    "a = {1,2,3,4}\n",
    "print(type(a))"
   ]
  },
  {
   "cell_type": "markdown",
   "id": "c975cdb2",
   "metadata": {},
   "source": [
    "#Output unordered\n",
    "a = {\"Apple\", \"Bob\", \"Call\", \"Olive\"}\n",
    "print(a)"
   ]
  },
  {
   "cell_type": "code",
   "execution_count": 8,
   "id": "25381a1a",
   "metadata": {},
   "outputs": [
    {
     "name": "stdout",
     "output_type": "stream",
     "text": [
      "{1, 2, 3, 4, 34, 23}\n"
     ]
    }
   ],
   "source": [
    "#No dublicate\n",
    "a = {1,1,1,2,3,4,34,3,23,23}\n",
    "print(a)"
   ]
  },
  {
   "cell_type": "code",
   "execution_count": 12,
   "id": "b74164e4",
   "metadata": {},
   "outputs": [
    {
     "ename": "TypeError",
     "evalue": "'set' object is not subscriptable",
     "output_type": "error",
     "traceback": [
      "\u001b[0;31m---------------------------------------------------------------------------\u001b[0m",
      "\u001b[0;31mTypeError\u001b[0m                                 Traceback (most recent call last)",
      "Input \u001b[0;32mIn [12]\u001b[0m, in \u001b[0;36m<cell line: 3>\u001b[0;34m()\u001b[0m\n\u001b[1;32m      1\u001b[0m a \u001b[38;5;241m=\u001b[39m {\u001b[38;5;124m\"\u001b[39m\u001b[38;5;124mApple\u001b[39m\u001b[38;5;124m\"\u001b[39m, \u001b[38;5;124m\"\u001b[39m\u001b[38;5;124mBob\u001b[39m\u001b[38;5;124m\"\u001b[39m, \u001b[38;5;124m\"\u001b[39m\u001b[38;5;124mCall\u001b[39m\u001b[38;5;124m\"\u001b[39m, \u001b[38;5;124m\"\u001b[39m\u001b[38;5;124mOlive\u001b[39m\u001b[38;5;124m\"\u001b[39m}\n\u001b[0;32m----> 3\u001b[0m \u001b[38;5;28mprint\u001b[39m(\u001b[43ma\u001b[49m\u001b[43m[\u001b[49m\u001b[38;5;241;43m0\u001b[39;49m\u001b[43m]\u001b[49m)\n",
      "\u001b[0;31mTypeError\u001b[0m: 'set' object is not subscriptable"
     ]
    }
   ],
   "source": [
    "\n",
    "a = {\"Apple\", \"Bob\", \"Call\", \"Olive\"}\n",
    "\n",
    "print(a[0])"
   ]
  },
  {
   "cell_type": "code",
   "execution_count": 14,
   "id": "ff14daae",
   "metadata": {},
   "outputs": [
    {
     "name": "stdout",
     "output_type": "stream",
     "text": [
      "Olive\n",
      "Call\n",
      "Apple\n",
      "Bob\n"
     ]
    }
   ],
   "source": [
    "a = {\"Apple\", \"Bob\", \"Call\", \"Olive\"}\n",
    "for i in a:\n",
    "    print(i)"
   ]
  },
  {
   "cell_type": "code",
   "execution_count": 16,
   "id": "e440af38",
   "metadata": {},
   "outputs": [
    {
     "name": "stdout",
     "output_type": "stream",
     "text": [
      "Enter the value: 3\n",
      "Enter the nameChandra\n",
      "Enter the nameApsara\n",
      "Enter the nameMamata\n",
      "{'Chandra', 'Apsara', 'Mamata'}\n"
     ]
    }
   ],
   "source": [
    "a = set()\n",
    "n = int(input(\"Enter the value: \"))\n",
    "for i in range(n):\n",
    "    name = input(\"Enter the name\")\n",
    "    a.add(name)\n",
    "print(a)"
   ]
  },
  {
   "cell_type": "code",
   "execution_count": 17,
   "id": "78b36a62",
   "metadata": {},
   "outputs": [
    {
     "name": "stdout",
     "output_type": "stream",
     "text": [
      "{'Olive', 'Ball', 'Call', 'Apple', 'Bob'}\n"
     ]
    }
   ],
   "source": [
    "a = {\"Apple\", \"Bob\", \"Call\", \"Olive\"}\n",
    "b = {\"Ball\"}\n",
    "a.update(b)\n",
    "print(a)"
   ]
  },
  {
   "cell_type": "code",
   "execution_count": 22,
   "id": "ddf2515b",
   "metadata": {},
   "outputs": [
    {
     "name": "stdout",
     "output_type": "stream",
     "text": [
      "{1, 2, 3, 4, 5, 6, 7, 8}\n",
      "[1, 2, 3, 4, 5, 6, 7, 8]\n"
     ]
    }
   ],
   "source": [
    "l = {1,2,3,4,5,6,7,8}\n",
    "print(set(l))\n",
    "print(list(set(l)))"
   ]
  },
  {
   "cell_type": "code",
   "execution_count": 23,
   "id": "4ed17d62",
   "metadata": {},
   "outputs": [
    {
     "data": {
      "text/plain": [
       "{'Hari', 'Olive'}"
      ]
     },
     "execution_count": 23,
     "metadata": {},
     "output_type": "execute_result"
    }
   ],
   "source": [
    "app = {\"Ram\",\"Sam\",\"Hari\",\"Harry\",\"Larry\",\"Olive\",\"Sarry\"}\n",
    "ms = {\"Mark\", \"Kevin\", \"Hari\", \"Olive\", \"Katy\"}\n",
    "\n",
    "app.intersection(ms)"
   ]
  },
  {
   "cell_type": "code",
   "execution_count": 24,
   "id": "ff016295",
   "metadata": {},
   "outputs": [
    {
     "data": {
      "text/plain": [
       "{'Hari',\n",
       " 'Harry',\n",
       " 'Katy',\n",
       " 'Kevin',\n",
       " 'Larry',\n",
       " 'Mark',\n",
       " 'Olive',\n",
       " 'Ram',\n",
       " 'Sam',\n",
       " 'Sarry'}"
      ]
     },
     "execution_count": 24,
     "metadata": {},
     "output_type": "execute_result"
    }
   ],
   "source": [
    "app.union(ms)"
   ]
  },
  {
   "cell_type": "code",
   "execution_count": 25,
   "id": "5cbcc9ca",
   "metadata": {},
   "outputs": [
    {
     "data": {
      "text/plain": [
       "{'Harry', 'Larry', 'Ram', 'Sam', 'Sarry'}"
      ]
     },
     "execution_count": 25,
     "metadata": {},
     "output_type": "execute_result"
    }
   ],
   "source": [
    "app = {\"Ram\",\"Sam\",\"Hari\",\"Harry\",\"Larry\",\"Olive\",\"Sarry\"}\n",
    "ms = {\"Mark\", \"Kevin\", \"Hari\", \"Olive\", \"Katy\"}\n",
    "app - ms"
   ]
  },
  {
   "cell_type": "code",
   "execution_count": 26,
   "id": "30c3bfae",
   "metadata": {},
   "outputs": [
    {
     "data": {
      "text/plain": [
       "{'Harry', 'Larry', 'Ram', 'Sam', 'Sarry'}"
      ]
     },
     "execution_count": 26,
     "metadata": {},
     "output_type": "execute_result"
    }
   ],
   "source": [
    "app = {\"Ram\",\"Sam\",\"Hari\",\"Harry\",\"Larry\",\"Olive\",\"Sarry\"}\n",
    "ms = {\"Mark\", \"Kevin\", \"Hari\", \"Olive\", \"Katy\"}\n",
    "app.difference(ms)"
   ]
  },
  {
   "cell_type": "code",
   "execution_count": 27,
   "id": "256c394f",
   "metadata": {},
   "outputs": [
    {
     "data": {
      "text/plain": [
       "{'Katy', 'Kevin', 'Mark'}"
      ]
     },
     "execution_count": 27,
     "metadata": {},
     "output_type": "execute_result"
    }
   ],
   "source": [
    "app = {\"Ram\",\"Sam\",\"Hari\",\"Harry\",\"Larry\",\"Olive\",\"Sarry\"}\n",
    "ms = {\"Mark\", \"Kevin\", \"Hari\", \"Olive\", \"Katy\"}\n",
    "ms.difference(app)"
   ]
  },
  {
   "cell_type": "code",
   "execution_count": 28,
   "id": "ef31a0a6",
   "metadata": {},
   "outputs": [
    {
     "data": {
      "text/plain": [
       "{'Mamata', 'Sita'}"
      ]
     },
     "execution_count": 28,
     "metadata": {},
     "output_type": "execute_result"
    }
   ],
   "source": [
    "u = {'Hari','Harry','Katy','Kevin','Larry','Mark','Olive','Ram','Sam','Sarry','Mamata','Sita'}\n",
    "\n",
    "app = {\"Ram\",\"Sam\",\"Hari\",\"Harry\",\"Larry\",\"Olive\",\"Sarry\"}\n",
    "ms = {\"Mark\", \"Kevin\", \"Hari\", \"Olive\", \"Katy\"}\n",
    "\n",
    "un = ms.union(app)\n",
    "u.difference(un) # u - un "
   ]
  },
  {
   "cell_type": "code",
   "execution_count": 29,
   "id": "a067ab71",
   "metadata": {},
   "outputs": [
    {
     "ename": "TypeError",
     "evalue": "unhashable type: 'list'",
     "output_type": "error",
     "traceback": [
      "\u001b[0;31m---------------------------------------------------------------------------\u001b[0m",
      "\u001b[0;31mTypeError\u001b[0m                                 Traceback (most recent call last)",
      "Input \u001b[0;32mIn [29]\u001b[0m, in \u001b[0;36m<cell line: 1>\u001b[0;34m()\u001b[0m\n\u001b[0;32m----> 1\u001b[0m a \u001b[38;5;241m=\u001b[39m{[\u001b[38;5;124m'\u001b[39m\u001b[38;5;124mHari\u001b[39m\u001b[38;5;124m'\u001b[39m,\u001b[38;5;124m'\u001b[39m\u001b[38;5;124mHarry\u001b[39m\u001b[38;5;124m'\u001b[39m,\u001b[38;5;124m'\u001b[39m\u001b[38;5;124mKaty\u001b[39m\u001b[38;5;124m'\u001b[39m],[\u001b[38;5;124m'\u001b[39m\u001b[38;5;124mKevin\u001b[39m\u001b[38;5;124m'\u001b[39m,\u001b[38;5;124m'\u001b[39m\u001b[38;5;124mLarry\u001b[39m\u001b[38;5;124m'\u001b[39m,\u001b[38;5;124m'\u001b[39m\u001b[38;5;124mMark\u001b[39m\u001b[38;5;124m'\u001b[39m]}\n\u001b[1;32m      2\u001b[0m \u001b[38;5;28mprint\u001b[39m(a)\n",
      "\u001b[0;31mTypeError\u001b[0m: unhashable type: 'list'"
     ]
    }
   ],
   "source": [
    "a ={['Hari','Harry','Katy'],['Kevin','Larry','Mark']}\n",
    "print(a)"
   ]
  },
  {
   "cell_type": "code",
   "execution_count": 30,
   "id": "9cb37c79",
   "metadata": {},
   "outputs": [
    {
     "name": "stdout",
     "output_type": "stream",
     "text": [
      "{('Hari', 'Harry', 'Katy'), ('Kevin', 'Larry', 'Mark')}\n"
     ]
    }
   ],
   "source": [
    "a ={('Hari','Harry','Katy'),('Kevin','Larry','Mark')}\n",
    "print(a)"
   ]
  },
  {
   "cell_type": "code",
   "execution_count": 31,
   "id": "577c014f",
   "metadata": {},
   "outputs": [
    {
     "data": {
      "text/plain": [
       "{'Ram'}"
      ]
     },
     "execution_count": 31,
     "metadata": {},
     "output_type": "execute_result"
    }
   ],
   "source": [
    "app = {\"Ram\",\"Sam\",\"Hari\",\"Harry\",\"Larry\",\"Olive\",\"Sarry\"}\n",
    "ms = {\"Mark\", \"Kevin\", \"Hari\", \"Olive\", \"Katy\",\"Ram\"}\n",
    "linux = {\"Lori\", \"Ram\"}\n",
    "app.intersection(ms,linux)"
   ]
  },
  {
   "cell_type": "code",
   "execution_count": null,
   "id": "c68dc9e5",
   "metadata": {},
   "outputs": [],
   "source": []
  }
 ],
 "metadata": {
  "kernelspec": {
   "display_name": "Python 3 (ipykernel)",
   "language": "python",
   "name": "python3"
  },
  "language_info": {
   "codemirror_mode": {
    "name": "ipython",
    "version": 3
   },
   "file_extension": ".py",
   "mimetype": "text/x-python",
   "name": "python",
   "nbconvert_exporter": "python",
   "pygments_lexer": "ipython3",
   "version": "3.9.12"
  }
 },
 "nbformat": 4,
 "nbformat_minor": 5
}
