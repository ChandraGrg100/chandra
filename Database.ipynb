{
 "cells": [
  {
   "cell_type": "code",
   "execution_count": 1,
   "id": "b153a62e",
   "metadata": {},
   "outputs": [
    {
     "name": "stdout",
     "output_type": "stream",
     "text": [
      "Requirement already satisfied: mysql-connector in /opt/anaconda3/lib/python3.9/site-packages (2.2.9)\r\n"
     ]
    }
   ],
   "source": [
    "!python -m pip install mysql-connector"
   ]
  },
  {
   "cell_type": "code",
   "execution_count": 2,
   "id": "89b016a0",
   "metadata": {
    "scrolled": true
   },
   "outputs": [],
   "source": [
    "import mysql.connector\n",
    "#importing database\n",
    "database = mysql.connector.connect(\n",
    "host=\"localhost\",\n",
    "user=\"root\",\n",
    "password=\"\"\n",
    ")\n",
    "db = database.cursor()\n",
    "db.execute(\"CREATE DATABASE pyth\")"
   ]
  },
  {
   "cell_type": "code",
   "execution_count": null,
   "id": "5fb774aa",
   "metadata": {},
   "outputs": [],
   "source": [
    "import mysql.connector\n",
    "#importing database\n",
    "database = mysql.connector.connect(\n",
    "host=\"localhost\",\n",
    "user=\"root\",\n",
    "password=\"\",\n",
    "\n",
    "database =\"pythons”,\n",
    ")\n",
    "db = database.cursor()\n",
    "db.execute(“CREATE TABLE subject(id INT, name\n",
    "VARCHAR(255))”)"
   ]
  },
  {
   "cell_type": "code",
   "execution_count": null,
   "id": "a232f74c",
   "metadata": {},
   "outputs": [],
   "source": [
    "db.execute(\"SELECT * FROM st”)\n",
    "result =db.fetchall()\n",
    "for x in result:\n",
    "print(x)"
   ]
  },
  {
   "cell_type": "code",
   "execution_count": null,
   "id": "3bfdc3e4",
   "metadata": {},
   "outputs": [],
   "source": []
  }
 ],
 "metadata": {
  "kernelspec": {
   "display_name": "Python 3 (ipykernel)",
   "language": "python",
   "name": "python3"
  },
  "language_info": {
   "codemirror_mode": {
    "name": "ipython",
    "version": 3
   },
   "file_extension": ".py",
   "mimetype": "text/x-python",
   "name": "python",
   "nbconvert_exporter": "python",
   "pygments_lexer": "ipython3",
   "version": "3.9.12"
  }
 },
 "nbformat": 4,
 "nbformat_minor": 5
}
