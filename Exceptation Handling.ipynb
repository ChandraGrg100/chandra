{
 "cells": [
  {
   "cell_type": "code",
   "execution_count": 1,
   "id": "e0707a3d",
   "metadata": {},
   "outputs": [],
   "source": [
    "# try:\n",
    "#     pass\n",
    "# except:\n",
    "#     pass"
   ]
  },
  {
   "cell_type": "code",
   "execution_count": 4,
   "id": "54ee46e3",
   "metadata": {},
   "outputs": [
    {
     "name": "stdout",
     "output_type": "stream",
     "text": [
      "Enter x = i\n",
      "Enter number only\n"
     ]
    }
   ],
   "source": [
    "try:\n",
    "    x = int(input(\"Enter x = \"))\n",
    "except: \n",
    "    print(\"Enter number only\")"
   ]
  },
  {
   "cell_type": "code",
   "execution_count": 6,
   "id": "f263d0e2",
   "metadata": {},
   "outputs": [
    {
     "name": "stdout",
     "output_type": "stream",
     "text": [
      "Enter a: 2\n",
      "ENter b: 0\n",
      "Error\n"
     ]
    }
   ],
   "source": [
    "try: \n",
    "    a = int(input(\"Enter a: \"))\n",
    "    b = int(input(\"ENter b: \"))\n",
    "    c = a/b\n",
    "    print(c)\n",
    "except:\n",
    "    print(\"Error\")"
   ]
  },
  {
   "cell_type": "code",
   "execution_count": 10,
   "id": "f5a72e9a",
   "metadata": {},
   "outputs": [
    {
     "name": "stdout",
     "output_type": "stream",
     "text": [
      "Enter a: 2\n",
      "ENter b: 0\n",
      "Error\n"
     ]
    }
   ],
   "source": [
    "try: \n",
    "    a = int(input(\"Enter a: \"))\n",
    "    b = int(input(\"ENter b: \"))\n",
    "    c = a/b\n",
    "    \n",
    "except:\n",
    "    print(\"Error\")\n",
    "    \n",
    "else:\n",
    "    print(c)"
   ]
  },
  {
   "cell_type": "code",
   "execution_count": 16,
   "id": "2d075300",
   "metadata": {},
   "outputs": [
    {
     "name": "stdout",
     "output_type": "stream",
     "text": [
      "Enter a: 2\n",
      "ENter b: 0\n",
      "Error\n",
      "Enter a: 2\n",
      "ENter b: 0\n",
      "Error\n",
      "Enter a: 2\n",
      "ENter b: 2\n",
      "1.0\n"
     ]
    }
   ],
   "source": [
    "def cal():\n",
    "    try: \n",
    "        a = int(input(\"Enter a: \"))\n",
    "        b = int(input(\"ENter b: \"))\n",
    "        c = a/b\n",
    "\n",
    "    except:\n",
    "        print(\"Error\")\n",
    "        cal()\n",
    "\n",
    "    else:\n",
    "        print(c)\n",
    "        \n",
    "cal()"
   ]
  },
  {
   "cell_type": "code",
   "execution_count": 20,
   "id": "00f45e6f",
   "metadata": {},
   "outputs": [
    {
     "name": "stdout",
     "output_type": "stream",
     "text": [
      "Enter a: 3\n",
      "ENter b: r\n",
      "Error, the value of a and b must be number\n"
     ]
    }
   ],
   "source": [
    "try: \n",
    "    a = int(input(\"Enter a: \"))\n",
    "    b = int(input(\"ENter b: \"))\n",
    "    c = a/b\n",
    "    print(c)\n",
    "    \n",
    "except ZeroDivisionError:\n",
    "    print(\"Error, value of B is 0\")\n",
    "\n",
    "except ValueError:\n",
    "    print(\"Error, the value of a and b must be number\")"
   ]
  },
  {
   "cell_type": "code",
   "execution_count": 22,
   "id": "6c6589ed",
   "metadata": {},
   "outputs": [],
   "source": [
    "# raise statement"
   ]
  },
  {
   "cell_type": "code",
   "execution_count": 23,
   "id": "4e452535",
   "metadata": {},
   "outputs": [],
   "source": [
    "# assert statement"
   ]
  },
  {
   "cell_type": "code",
   "execution_count": 26,
   "id": "bcb4d598",
   "metadata": {},
   "outputs": [
    {
     "ename": "AssertionError",
     "evalue": "",
     "output_type": "error",
     "traceback": [
      "\u001b[0;31m---------------------------------------------------------------------------\u001b[0m",
      "\u001b[0;31mAssertionError\u001b[0m                            Traceback (most recent call last)",
      "Input \u001b[0;32mIn [26]\u001b[0m, in \u001b[0;36m<cell line: 2>\u001b[0;34m()\u001b[0m\n\u001b[1;32m      1\u001b[0m a \u001b[38;5;241m=\u001b[39m \u001b[38;5;241m9\u001b[39m\n\u001b[0;32m----> 2\u001b[0m \u001b[38;5;28;01massert\u001b[39;00m \u001b[38;5;241m2\u001b[39m\u001b[38;5;241m>\u001b[39ma\n",
      "\u001b[0;31mAssertionError\u001b[0m: "
     ]
    }
   ],
   "source": [
    "a = 9\n",
    "assert 2>a"
   ]
  },
  {
   "cell_type": "code",
   "execution_count": 34,
   "id": "d0f2251a",
   "metadata": {},
   "outputs": [
    {
     "name": "stdout",
     "output_type": "stream",
     "text": [
      "Enter the value: 3\n",
      "A is not even\n"
     ]
    }
   ],
   "source": [
    "try: \n",
    "    a = int(input(\"Enter the value: \"))\n",
    "    assert a%2 ==0 \n",
    "except:\n",
    "    print(\"A is not even\")"
   ]
  },
  {
   "cell_type": "code",
   "execution_count": null,
   "id": "fdc56ea3",
   "metadata": {},
   "outputs": [],
   "source": []
  }
 ],
 "metadata": {
  "kernelspec": {
   "display_name": "Python 3 (ipykernel)",
   "language": "python",
   "name": "python3"
  },
  "language_info": {
   "codemirror_mode": {
    "name": "ipython",
    "version": 3
   },
   "file_extension": ".py",
   "mimetype": "text/x-python",
   "name": "python",
   "nbconvert_exporter": "python",
   "pygments_lexer": "ipython3",
   "version": "3.9.12"
  }
 },
 "nbformat": 4,
 "nbformat_minor": 5
}
